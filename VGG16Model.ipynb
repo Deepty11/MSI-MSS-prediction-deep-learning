{
  "nbformat": 4,
  "nbformat_minor": 0,
  "metadata": {
    "colab": {
      "name": "VGG16onMSIvsMSS.ipynb",
      "provenance": [],
      "toc_visible": true,
      "include_colab_link": true
    },
    "kernelspec": {
      "display_name": "Python 3",
      "name": "python3"
    },
    "language_info": {
      "name": "python"
    }
  },
  "cells": [
    {
      "cell_type": "markdown",
      "metadata": {
        "id": "view-in-github",
        "colab_type": "text"
      },
      "source": [
        "<a href=\"https://colab.research.google.com/github/Deepty11/MSI-MSS-prediction-deep-learning/blob/main/VGG16Model.ipynb\" target=\"_parent\"><img src=\"https://colab.research.google.com/assets/colab-badge.svg\" alt=\"Open In Colab\"/></a>"
      ]
    },
    {
      "cell_type": "code",
      "metadata": {
        "id": "pNBAPRWZqdXL"
      },
      "source": [
        "!pip install keras==2.3.0"
      ],
      "execution_count": null,
      "outputs": []
    },
    {
      "cell_type": "code",
      "metadata": {
        "colab": {
          "base_uri": "https://localhost:8080/"
        },
        "id": "wpQmrphVXr-P",
        "outputId": "93ad0f8b-1638-404c-ed15-b9c44a217bfc"
      },
      "source": [
        "from google.colab import drive\n",
        "drive.mount('/content/drive')"
      ],
      "execution_count": 1,
      "outputs": [
        {
          "output_type": "stream",
          "text": [
            "Mounted at /content/drive\n"
          ],
          "name": "stdout"
        }
      ]
    },
    {
      "cell_type": "code",
      "metadata": {
        "id": "bL2eDlncYaX3"
      },
      "source": [
        "import pandas as pd\n",
        "import numpy as np \n",
        "import itertools\n",
        "import tensorflow as tf\n",
        "from tensorflow import keras\n",
        "\n",
        "from sklearn import metrics\n",
        "from sklearn.metrics import confusion_matrix\n",
        "from tensorflow.keras.preprocessing import image\n",
        "from tensorflow.keras.preprocessing.image import ImageDataGenerator, img_to_array, load_img \n",
        "from tensorflow.keras.models import Sequential \n",
        "from tensorflow.keras import optimizers\n",
        "from tensorflow.keras.preprocessing import image\n",
        "from tensorflow.keras.layers import Dropout, Flatten, Dense \n",
        "from tensorflow.keras import applications \n",
        "from keras.utils.np_utils import to_categorical \n",
        "from tensorflow.keras.applications.vgg16 import VGG16\n",
        "import matplotlib.pyplot as plt \n",
        "import matplotlib.image as mpimg\n",
        "%matplotlib inline\n",
        "import math \n",
        "import datetime\n",
        "import time"
      ],
      "execution_count": 2,
      "outputs": []
    },
    {
      "cell_type": "code",
      "metadata": {
        "id": "DsrVBnfsYgCA"
      },
      "source": [
        "#Default dimensions we found online\n",
        "img_width, img_height = 224, 224 \n",
        " \n",
        "#Create a bottleneck file\n",
        "top_model_weights_path = 'bottleneck_fc_model.h5'\n",
        "# loading up our datasets\n",
        "train_data_dir = '/content/drive/MyDrive/Thesis work/augmented/train'\n",
        "validation_data_dir = '/content/drive/MyDrive/Thesis work/augmented/val ' \n",
        "test_data_dir = '/content/drive/MyDrive/Thesis work/augmented/test'\n",
        "#test_data_dir = ‘data/test’\n",
        " \n",
        "# number of epochs to train top model \n",
        "#epochs = 50 #this has been changed after multiple model run \n",
        "# batch size used by flow_from_directory and predict_generator \n",
        "batch_size = 40 "
      ],
      "execution_count": 3,
      "outputs": []
    },
    {
      "cell_type": "code",
      "metadata": {
        "id": "vYe8FKA_Y4M5",
        "colab": {
          "base_uri": "https://localhost:8080/"
        },
        "outputId": "b9564e4e-1d8a-4c88-cc62-ad5ae06e8d24"
      },
      "source": [
        "#Loading vgc16 model\n",
        "vgg16 = VGG16(include_top=False, weights='imagenet')\n",
        "datagen = ImageDataGenerator(rescale=1. / 255) \n",
        "#needed to create the bottleneck .npy files"
      ],
      "execution_count": 4,
      "outputs": [
        {
          "output_type": "stream",
          "text": [
            "Downloading data from https://storage.googleapis.com/tensorflow/keras-applications/vgg16/vgg16_weights_tf_dim_ordering_tf_kernels_notop.h5\n",
            "58892288/58889256 [==============================] - 1s 0us/step\n"
          ],
          "name": "stdout"
        }
      ]
    },
    {
      "cell_type": "markdown",
      "metadata": {
        "id": "YHtQbkzvx50U"
      },
      "source": [
        "# Bottleneck data for train data"
      ]
    },
    {
      "cell_type": "markdown",
      "metadata": {
        "id": "RulYmjy7ZdwI"
      },
      "source": [
        "Creation of the weights and feature using VGG16:\n"
      ]
    },
    {
      "cell_type": "code",
      "metadata": {
        "colab": {
          "base_uri": "https://localhost:8080/"
        },
        "id": "RgnXTAfgZBkQ",
        "outputId": "6b199986-ca89-42ca-c316-a794d5f9b0e4"
      },
      "source": [
        "#__this can take an hour and half to run so only run it once. \n",
        "#once the npy files have been created, no need to run again. Convert this cell to a code cell to run.__\n",
        "start = datetime.datetime.now()\n",
        " \n",
        "generator = datagen.flow_from_directory( \n",
        "    train_data_dir, \n",
        "    target_size=(img_width, img_height), \n",
        "    batch_size=batch_size, \n",
        "    class_mode=None, \n",
        "    shuffle=False) \n",
        " \n",
        "nb_train_samples = len(generator.filenames) \n",
        "num_classes = len(generator.class_indices) \n",
        " \n",
        "predict_size_train = int(math.ceil(nb_train_samples / batch_size)) \n",
        " \n",
        "bottleneck_features_train = vgg16.predict_generator(generator, predict_size_train) \n",
        " \n",
        "np.save('/content/drive/MyDrive/Thesis work/bottleneck_features_train_vgg16.npy', bottleneck_features_train)\n",
        "end= datetime.datetime.now()\n",
        "elapsed= end-start\n",
        "print ('Time: ', elapsed)"
      ],
      "execution_count": 5,
      "outputs": [
        {
          "output_type": "stream",
          "text": [
            "Found 1249 images belonging to 2 classes.\n"
          ],
          "name": "stdout"
        },
        {
          "output_type": "stream",
          "text": [
            "/usr/local/lib/python3.7/dist-packages/tensorflow/python/keras/engine/training.py:2001: UserWarning: `Model.predict_generator` is deprecated and will be removed in a future version. Please use `Model.predict`, which supports generators.\n",
            "  warnings.warn('`Model.predict_generator` is deprecated and '\n"
          ],
          "name": "stderr"
        },
        {
          "output_type": "stream",
          "text": [
            "Time:  0:10:38.061988\n"
          ],
          "name": "stdout"
        }
      ]
    },
    {
      "cell_type": "markdown",
      "metadata": {
        "id": "mfqaO67KhRFL"
      },
      "source": [
        "Creating a bottleneck file for the training data. (Same step for validation and testing):"
      ]
    },
    {
      "cell_type": "code",
      "metadata": {
        "colab": {
          "base_uri": "https://localhost:8080/"
        },
        "id": "fdED6RZThM_e",
        "outputId": "f03fe1b4-3ee6-437e-dd04-39298907761a"
      },
      "source": [
        "#training data\n",
        "generator_top = datagen.flow_from_directory( \n",
        "   train_data_dir, \n",
        "   target_size=(img_width, img_height), \n",
        "   batch_size=batch_size, \n",
        "   class_mode= None, \n",
        "   shuffle=False) \n",
        " \n",
        "nb_train_samples = len(generator_top.filenames) \n",
        "num_classes = len(generator_top.class_indices) \n",
        " \n",
        "# load the bottleneck features saved earlier \n",
        "train_data = np.load('/content/drive/MyDrive/Thesis work/bottleneck_features_train_vgg16.npy') \n",
        " \n",
        "# get the class labels for the training data, in the original order \n",
        "train_labels = generator_top.classes \n",
        " \n",
        "# convert the training labels to categorical vectors \n",
        "#train_labels = to_categorical(train_labels, num_classes=num_classes)\n",
        "train_labels"
      ],
      "execution_count": 6,
      "outputs": [
        {
          "output_type": "stream",
          "text": [
            "Found 1249 images belonging to 2 classes.\n"
          ],
          "name": "stdout"
        },
        {
          "output_type": "execute_result",
          "data": {
            "text/plain": [
              "array([0, 0, 0, ..., 1, 1, 1], dtype=int32)"
            ]
          },
          "metadata": {
            "tags": []
          },
          "execution_count": 6
        }
      ]
    },
    {
      "cell_type": "markdown",
      "metadata": {
        "id": "iVXFOfQ5x-Pp"
      },
      "source": [
        "# Bottleneck data for validation data"
      ]
    },
    {
      "cell_type": "code",
      "metadata": {
        "colab": {
          "base_uri": "https://localhost:8080/"
        },
        "id": "WXP115RpiOox",
        "outputId": "351ba9f6-b038-4c39-dbc5-363a9d928dea"
      },
      "source": [
        "#__this can take an hour and half to run so only run it once. \n",
        "#once the npy files have been created, no need to run again. Convert this cell to a code cell to run.__\n",
        "start = datetime.datetime.now()\n",
        " \n",
        "generator = datagen.flow_from_directory( \n",
        "    validation_data_dir, \n",
        "    target_size=(img_width, img_height), \n",
        "    batch_size=batch_size, \n",
        "    class_mode=None, \n",
        "    shuffle=False) \n",
        " \n",
        "nb_validation_samples = len(generator.filenames) \n",
        "num_classes = len(generator.class_indices) \n",
        " \n",
        "predict_size_validation = int(math.ceil(nb_validation_samples / batch_size)) \n",
        " \n",
        "bottleneck_features_validation = vgg16.predict_generator(generator, predict_size_validation) \n",
        " \n",
        "np.save('/content/drive/MyDrive/Thesis work/bottleneck_features_validation_vgg16.npy', bottleneck_features_validation)\n",
        "end= datetime.datetime.now()\n",
        "elapsed= end-start\n",
        "print ('Time: ', elapsed)"
      ],
      "execution_count": 7,
      "outputs": [
        {
          "output_type": "stream",
          "text": [
            "Found 630 images belonging to 2 classes.\n"
          ],
          "name": "stdout"
        },
        {
          "output_type": "stream",
          "text": [
            "/usr/local/lib/python3.7/dist-packages/tensorflow/python/keras/engine/training.py:2001: UserWarning: `Model.predict_generator` is deprecated and will be removed in a future version. Please use `Model.predict`, which supports generators.\n",
            "  warnings.warn('`Model.predict_generator` is deprecated and '\n"
          ],
          "name": "stderr"
        },
        {
          "output_type": "stream",
          "text": [
            "Time:  0:05:36.668506\n"
          ],
          "name": "stdout"
        }
      ]
    },
    {
      "cell_type": "code",
      "metadata": {
        "colab": {
          "base_uri": "https://localhost:8080/"
        },
        "id": "dQ3Xz4U4hfnK",
        "outputId": "659e1785-9cab-4f79-8c94-3ea0ae40ec4d"
      },
      "source": [
        "#validation data\n",
        "generator_top = datagen.flow_from_directory( \n",
        "   validation_data_dir, \n",
        "   target_size=(img_width, img_height), \n",
        "   batch_size=batch_size, \n",
        "   class_mode= None, \n",
        "   shuffle=False) \n",
        " \n",
        "nb_validation_samples = len(generator_top.filenames) \n",
        "num_classes = len(generator_top.class_indices) \n",
        " \n",
        "# load the bottleneck features saved earlier \n",
        "validation_data = np.load('/content/drive/MyDrive/Thesis work/bottleneck_features_validation_vgg16.npy') \n",
        " \n",
        "# get the class labels for the training data, in the original order \n",
        "validation_labels = generator_top.classes \n",
        " \n",
        "# convert the training labels to categorical vectors \n",
        "#validation_labels = to_categorical(validation_labels, num_classes=num_classes)"
      ],
      "execution_count": 8,
      "outputs": [
        {
          "output_type": "stream",
          "text": [
            "Found 630 images belonging to 2 classes.\n"
          ],
          "name": "stdout"
        }
      ]
    },
    {
      "cell_type": "markdown",
      "metadata": {
        "id": "rWuHYErOyCkt"
      },
      "source": [
        "# Bottleneck data for test data"
      ]
    },
    {
      "cell_type": "code",
      "metadata": {
        "colab": {
          "base_uri": "https://localhost:8080/"
        },
        "id": "hf7UiVqc_vlx",
        "outputId": "2d31a7bc-aca5-4878-83ea-3428696c041b"
      },
      "source": [
        "#__this can take an hour and half to run so only run it once. \n",
        "#once the npy files have been created, no need to run again. Convert this cell to a code cell to run.__\n",
        "start = datetime.datetime.now()\n",
        " \n",
        "generator = datagen.flow_from_directory( \n",
        "    test_data_dir, \n",
        "    target_size=(img_width, img_height), \n",
        "    batch_size=batch_size, \n",
        "    class_mode= None, \n",
        "    shuffle=False) \n",
        " \n",
        "nb_validation_samples = len(generator.filenames) \n",
        "num_classes = len(generator.class_indices) \n",
        " \n",
        "predict_size_validation = int(math.ceil(nb_validation_samples / batch_size)) \n",
        " \n",
        "bottleneck_features_validation = vgg16.predict_generator(generator, predict_size_validation) \n",
        " \n",
        "np.save('/content/drive/MyDrive/Thesis work/bottleneck_features_test_vgg16.npy', bottleneck_features_validation)\n",
        "end= datetime.datetime.now()\n",
        "elapsed= end-start\n",
        "print ('Time: ', elapsed)"
      ],
      "execution_count": 9,
      "outputs": [
        {
          "output_type": "stream",
          "text": [
            "Found 623 images belonging to 2 classes.\n"
          ],
          "name": "stdout"
        },
        {
          "output_type": "stream",
          "text": [
            "/usr/local/lib/python3.7/dist-packages/tensorflow/python/keras/engine/training.py:2001: UserWarning: `Model.predict_generator` is deprecated and will be removed in a future version. Please use `Model.predict`, which supports generators.\n",
            "  warnings.warn('`Model.predict_generator` is deprecated and '\n"
          ],
          "name": "stderr"
        },
        {
          "output_type": "stream",
          "text": [
            "Time:  0:05:35.812764\n"
          ],
          "name": "stdout"
        }
      ]
    },
    {
      "cell_type": "code",
      "metadata": {
        "colab": {
          "base_uri": "https://localhost:8080/"
        },
        "id": "KQyqA5Kj_vJh",
        "outputId": "8e211a4b-ed2c-4987-e258-d4ddf0c785d6"
      },
      "source": [
        "#test data\n",
        "\n",
        "generator_top = datagen.flow_from_directory( \n",
        "   test_data_dir, \n",
        "   target_size=(img_width, img_height), \n",
        "   batch_size=batch_size, \n",
        "   class_mode= None, \n",
        "   shuffle=False) \n",
        " \n",
        "nb_test_samples = len(generator_top.filenames) \n",
        "num_classes = len(generator_top.class_indices) \n",
        " \n",
        "# load the bottleneck features saved earlier \n",
        "test_data = np.load('/content/drive/MyDrive/Thesis work/bottleneck_features_test_vgg16.npy') \n",
        " \n",
        "# get the class labels for the training data, in the original order \n",
        "test_labels = generator_top.classes \n",
        " \n",
        "# convert the training labels to categorical vectors \n",
        "#test_labels = to_categorical(test_labels, num_classes=num_classes)"
      ],
      "execution_count": 10,
      "outputs": [
        {
          "output_type": "stream",
          "text": [
            "Found 623 images belonging to 2 classes.\n"
          ],
          "name": "stdout"
        }
      ]
    },
    {
      "cell_type": "markdown",
      "metadata": {
        "id": "eZy1geSHyHWM"
      },
      "source": [
        "# Compile and Fit model"
      ]
    },
    {
      "cell_type": "code",
      "metadata": {
        "colab": {
          "base_uri": "https://localhost:8080/"
        },
        "id": "OdvUOiDhm3Av",
        "outputId": "e12a83c3-7abc-4148-b4fc-260b0214266e"
      },
      "source": [
        "#This is the best model we found. For additional models, check out I_notebook.ipynb\n",
        "start = datetime.datetime.now()\n",
        "model = Sequential() \n",
        "model.add(Flatten(input_shape=train_data.shape[1:])) \n",
        "model.add(Dense(100, activation=keras.layers.LeakyReLU(alpha=0.3))) \n",
        "model.add(Dropout(0.8)) \n",
        "# model.add(Dense(100, activation=keras.layers.LeakyReLU(alpha=0.3))) \n",
        "# model.add(Dropout(0.5)) \n",
        "model.add(Dense(1, activation='sigmoid'))\n",
        "model.compile(loss='binary_crossentropy',\n",
        "   optimizer=optimizers.RMSprop(learning_rate=1e-4),\n",
        "   metrics=['acc'])\n",
        "\n",
        "history = model.fit(train_data, train_labels, \n",
        "   epochs=100,\n",
        "   batch_size=64)\n",
        "\n",
        "model.save_weights(top_model_weights_path)\n",
        "\n",
        "\n",
        "end= datetime.datetime.now()\n",
        "elapsed= end-start\n",
        "print (\"Time: \", elapsed)"
      ],
      "execution_count": 11,
      "outputs": [
        {
          "output_type": "stream",
          "text": [
            "Epoch 1/100\n",
            "20/20 [==============================] - 1s 35ms/step - loss: 0.9914 - acc: 0.5556\n",
            "Epoch 2/100\n",
            "20/20 [==============================] - 1s 34ms/step - loss: 0.7621 - acc: 0.5765\n",
            "Epoch 3/100\n",
            "20/20 [==============================] - 1s 35ms/step - loss: 0.6779 - acc: 0.6309\n",
            "Epoch 4/100\n",
            "20/20 [==============================] - 1s 35ms/step - loss: 0.7398 - acc: 0.6133\n",
            "Epoch 5/100\n",
            "20/20 [==============================] - 1s 34ms/step - loss: 0.7191 - acc: 0.6045\n",
            "Epoch 6/100\n",
            "20/20 [==============================] - 1s 35ms/step - loss: 0.6602 - acc: 0.6325\n",
            "Epoch 7/100\n",
            "20/20 [==============================] - 1s 35ms/step - loss: 0.6615 - acc: 0.6629\n",
            "Epoch 8/100\n",
            "20/20 [==============================] - 1s 35ms/step - loss: 0.6253 - acc: 0.6813\n",
            "Epoch 9/100\n",
            "20/20 [==============================] - 1s 35ms/step - loss: 0.6321 - acc: 0.6717\n",
            "Epoch 10/100\n",
            "20/20 [==============================] - 1s 35ms/step - loss: 0.5620 - acc: 0.7238\n",
            "Epoch 11/100\n",
            "20/20 [==============================] - 1s 35ms/step - loss: 0.5800 - acc: 0.7166\n",
            "Epoch 12/100\n",
            "20/20 [==============================] - 1s 34ms/step - loss: 0.5442 - acc: 0.7358\n",
            "Epoch 13/100\n",
            "20/20 [==============================] - 1s 35ms/step - loss: 0.5396 - acc: 0.7438\n",
            "Epoch 14/100\n",
            "20/20 [==============================] - 1s 35ms/step - loss: 0.5446 - acc: 0.7486\n",
            "Epoch 15/100\n",
            "20/20 [==============================] - 1s 34ms/step - loss: 0.5166 - acc: 0.7542\n",
            "Epoch 16/100\n",
            "20/20 [==============================] - 1s 35ms/step - loss: 0.5125 - acc: 0.7662\n",
            "Epoch 17/100\n",
            "20/20 [==============================] - 1s 35ms/step - loss: 0.5108 - acc: 0.7406\n",
            "Epoch 18/100\n",
            "20/20 [==============================] - 1s 35ms/step - loss: 0.4662 - acc: 0.7782\n",
            "Epoch 19/100\n",
            "20/20 [==============================] - 1s 35ms/step - loss: 0.4977 - acc: 0.7614\n",
            "Epoch 20/100\n",
            "20/20 [==============================] - 1s 35ms/step - loss: 0.4820 - acc: 0.7814\n",
            "Epoch 21/100\n",
            "20/20 [==============================] - 1s 35ms/step - loss: 0.4540 - acc: 0.7902\n",
            "Epoch 22/100\n",
            "20/20 [==============================] - 1s 35ms/step - loss: 0.4749 - acc: 0.7710\n",
            "Epoch 23/100\n",
            "20/20 [==============================] - 1s 35ms/step - loss: 0.4441 - acc: 0.7862\n",
            "Epoch 24/100\n",
            "20/20 [==============================] - 1s 35ms/step - loss: 0.4008 - acc: 0.8030\n",
            "Epoch 25/100\n",
            "20/20 [==============================] - 1s 34ms/step - loss: 0.4084 - acc: 0.8199\n",
            "Epoch 26/100\n",
            "20/20 [==============================] - 1s 35ms/step - loss: 0.4029 - acc: 0.8094\n",
            "Epoch 27/100\n",
            "20/20 [==============================] - 1s 35ms/step - loss: 0.4000 - acc: 0.8062\n",
            "Epoch 28/100\n",
            "20/20 [==============================] - 1s 35ms/step - loss: 0.3509 - acc: 0.8415\n",
            "Epoch 29/100\n",
            "20/20 [==============================] - 1s 34ms/step - loss: 0.4083 - acc: 0.8030\n",
            "Epoch 30/100\n",
            "20/20 [==============================] - 1s 36ms/step - loss: 0.3628 - acc: 0.8343\n",
            "Epoch 31/100\n",
            "20/20 [==============================] - 1s 35ms/step - loss: 0.3684 - acc: 0.8359\n",
            "Epoch 32/100\n",
            "20/20 [==============================] - 1s 35ms/step - loss: 0.3515 - acc: 0.8495\n",
            "Epoch 33/100\n",
            "20/20 [==============================] - 1s 36ms/step - loss: 0.3925 - acc: 0.8303\n",
            "Epoch 34/100\n",
            "20/20 [==============================] - 1s 35ms/step - loss: 0.3180 - acc: 0.8575\n",
            "Epoch 35/100\n",
            "20/20 [==============================] - 1s 35ms/step - loss: 0.3507 - acc: 0.8375\n",
            "Epoch 36/100\n",
            "20/20 [==============================] - 1s 35ms/step - loss: 0.3240 - acc: 0.8471\n",
            "Epoch 37/100\n",
            "20/20 [==============================] - 1s 35ms/step - loss: 0.3177 - acc: 0.8495\n",
            "Epoch 38/100\n",
            "20/20 [==============================] - 1s 35ms/step - loss: 0.3363 - acc: 0.8527\n",
            "Epoch 39/100\n",
            "20/20 [==============================] - 1s 35ms/step - loss: 0.3056 - acc: 0.8535\n",
            "Epoch 40/100\n",
            "20/20 [==============================] - 1s 35ms/step - loss: 0.3382 - acc: 0.8479\n",
            "Epoch 41/100\n",
            "20/20 [==============================] - 1s 35ms/step - loss: 0.2785 - acc: 0.8759\n",
            "Epoch 42/100\n",
            "20/20 [==============================] - 1s 35ms/step - loss: 0.2559 - acc: 0.8951\n",
            "Epoch 43/100\n",
            "20/20 [==============================] - 1s 36ms/step - loss: 0.2885 - acc: 0.8831\n",
            "Epoch 44/100\n",
            "20/20 [==============================] - 1s 35ms/step - loss: 0.3018 - acc: 0.8615\n",
            "Epoch 45/100\n",
            "20/20 [==============================] - 1s 34ms/step - loss: 0.2330 - acc: 0.9023\n",
            "Epoch 46/100\n",
            "20/20 [==============================] - 1s 35ms/step - loss: 0.2601 - acc: 0.8991\n",
            "Epoch 47/100\n",
            "20/20 [==============================] - 1s 37ms/step - loss: 0.2781 - acc: 0.8775\n",
            "Epoch 48/100\n",
            "20/20 [==============================] - 1s 34ms/step - loss: 0.2567 - acc: 0.8951\n",
            "Epoch 49/100\n",
            "20/20 [==============================] - 1s 35ms/step - loss: 0.2664 - acc: 0.8799\n",
            "Epoch 50/100\n",
            "20/20 [==============================] - 1s 36ms/step - loss: 0.2226 - acc: 0.9191\n",
            "Epoch 51/100\n",
            "20/20 [==============================] - 1s 35ms/step - loss: 0.2374 - acc: 0.8991\n",
            "Epoch 52/100\n",
            "20/20 [==============================] - 1s 34ms/step - loss: 0.2731 - acc: 0.8783\n",
            "Epoch 53/100\n",
            "20/20 [==============================] - 1s 35ms/step - loss: 0.1742 - acc: 0.9432\n",
            "Epoch 54/100\n",
            "20/20 [==============================] - 1s 35ms/step - loss: 0.2371 - acc: 0.8999\n",
            "Epoch 55/100\n",
            "20/20 [==============================] - 1s 35ms/step - loss: 0.2232 - acc: 0.9143\n",
            "Epoch 56/100\n",
            "20/20 [==============================] - 1s 35ms/step - loss: 0.2215 - acc: 0.8975\n",
            "Epoch 57/100\n",
            "20/20 [==============================] - 1s 35ms/step - loss: 0.1888 - acc: 0.9175\n",
            "Epoch 58/100\n",
            "20/20 [==============================] - 1s 36ms/step - loss: 0.1909 - acc: 0.9255\n",
            "Epoch 59/100\n",
            "20/20 [==============================] - 1s 35ms/step - loss: 0.2131 - acc: 0.9127\n",
            "Epoch 60/100\n",
            "20/20 [==============================] - 1s 35ms/step - loss: 0.2050 - acc: 0.9175\n",
            "Epoch 61/100\n",
            "20/20 [==============================] - 1s 35ms/step - loss: 0.1764 - acc: 0.9319\n",
            "Epoch 62/100\n",
            "20/20 [==============================] - 1s 36ms/step - loss: 0.1658 - acc: 0.9335\n",
            "Epoch 63/100\n",
            "20/20 [==============================] - 1s 35ms/step - loss: 0.1701 - acc: 0.9327\n",
            "Epoch 64/100\n",
            "20/20 [==============================] - 1s 35ms/step - loss: 0.1683 - acc: 0.9343\n",
            "Epoch 65/100\n",
            "20/20 [==============================] - 1s 35ms/step - loss: 0.1477 - acc: 0.9520\n",
            "Epoch 66/100\n",
            "20/20 [==============================] - 1s 36ms/step - loss: 0.1924 - acc: 0.9159\n",
            "Epoch 67/100\n",
            "20/20 [==============================] - 1s 36ms/step - loss: 0.1734 - acc: 0.9287\n",
            "Epoch 68/100\n",
            "20/20 [==============================] - 1s 35ms/step - loss: 0.1814 - acc: 0.9303\n",
            "Epoch 69/100\n",
            "20/20 [==============================] - 1s 36ms/step - loss: 0.1771 - acc: 0.9271\n",
            "Epoch 70/100\n",
            "20/20 [==============================] - 1s 35ms/step - loss: 0.1562 - acc: 0.9448\n",
            "Epoch 71/100\n",
            "20/20 [==============================] - 1s 37ms/step - loss: 0.1411 - acc: 0.9520\n",
            "Epoch 72/100\n",
            "20/20 [==============================] - 1s 36ms/step - loss: 0.1451 - acc: 0.9448\n",
            "Epoch 73/100\n",
            "20/20 [==============================] - 1s 36ms/step - loss: 0.1501 - acc: 0.9432\n",
            "Epoch 74/100\n",
            "20/20 [==============================] - 1s 35ms/step - loss: 0.1461 - acc: 0.9488\n",
            "Epoch 75/100\n",
            "20/20 [==============================] - 1s 36ms/step - loss: 0.1366 - acc: 0.9528\n",
            "Epoch 76/100\n",
            "20/20 [==============================] - 1s 36ms/step - loss: 0.1208 - acc: 0.9648\n",
            "Epoch 77/100\n",
            "20/20 [==============================] - 1s 36ms/step - loss: 0.1515 - acc: 0.9343\n",
            "Epoch 78/100\n",
            "20/20 [==============================] - 1s 35ms/step - loss: 0.1866 - acc: 0.9319\n",
            "Epoch 79/100\n",
            "20/20 [==============================] - 1s 36ms/step - loss: 0.1475 - acc: 0.9520\n",
            "Epoch 80/100\n",
            "20/20 [==============================] - 1s 36ms/step - loss: 0.0940 - acc: 0.9728\n",
            "Epoch 81/100\n",
            "20/20 [==============================] - 1s 36ms/step - loss: 0.1639 - acc: 0.9327\n",
            "Epoch 82/100\n",
            "20/20 [==============================] - 1s 36ms/step - loss: 0.0921 - acc: 0.9688\n",
            "Epoch 83/100\n",
            "20/20 [==============================] - 1s 37ms/step - loss: 0.1080 - acc: 0.9632\n",
            "Epoch 84/100\n",
            "20/20 [==============================] - 1s 36ms/step - loss: 0.1340 - acc: 0.9488\n",
            "Epoch 85/100\n",
            "20/20 [==============================] - 1s 36ms/step - loss: 0.1333 - acc: 0.9536\n",
            "Epoch 86/100\n",
            "20/20 [==============================] - 1s 37ms/step - loss: 0.1147 - acc: 0.9632\n",
            "Epoch 87/100\n",
            "20/20 [==============================] - 1s 36ms/step - loss: 0.0992 - acc: 0.9712\n",
            "Epoch 88/100\n",
            "20/20 [==============================] - 1s 37ms/step - loss: 0.1467 - acc: 0.9440\n",
            "Epoch 89/100\n",
            "20/20 [==============================] - 1s 36ms/step - loss: 0.0912 - acc: 0.9760\n",
            "Epoch 90/100\n",
            "20/20 [==============================] - 1s 36ms/step - loss: 0.1136 - acc: 0.9648\n",
            "Epoch 91/100\n",
            "20/20 [==============================] - 1s 36ms/step - loss: 0.1268 - acc: 0.9560\n",
            "Epoch 92/100\n",
            "20/20 [==============================] - 1s 35ms/step - loss: 0.1372 - acc: 0.9456\n",
            "Epoch 93/100\n",
            "20/20 [==============================] - 1s 37ms/step - loss: 0.0519 - acc: 0.9944\n",
            "Epoch 94/100\n",
            "20/20 [==============================] - 1s 36ms/step - loss: 0.0974 - acc: 0.9648\n",
            "Epoch 95/100\n",
            "20/20 [==============================] - 1s 36ms/step - loss: 0.1092 - acc: 0.9624\n",
            "Epoch 96/100\n",
            "20/20 [==============================] - 1s 35ms/step - loss: 0.1303 - acc: 0.9472\n",
            "Epoch 97/100\n",
            "20/20 [==============================] - 1s 36ms/step - loss: 0.0565 - acc: 0.9920\n",
            "Epoch 98/100\n",
            "20/20 [==============================] - 1s 37ms/step - loss: 0.1360 - acc: 0.9544\n",
            "Epoch 99/100\n",
            "20/20 [==============================] - 1s 36ms/step - loss: 0.0489 - acc: 0.9920\n",
            "Epoch 100/100\n",
            "20/20 [==============================] - 1s 36ms/step - loss: 0.1105 - acc: 0.9576\n",
            "Time:  0:01:12.383245\n"
          ],
          "name": "stdout"
        }
      ]
    },
    {
      "cell_type": "markdown",
      "metadata": {
        "id": "SEzNDGhuoH0P"
      },
      "source": [
        "# **Training Accuracy and Test Accuracy**"
      ]
    },
    {
      "cell_type": "code",
      "metadata": {
        "colab": {
          "base_uri": "https://localhost:8080/"
        },
        "id": "58inp1a-oGrT",
        "outputId": "f77df3b7-d90d-4a0d-977c-b22ebaa6b4b5"
      },
      "source": [
        "from sklearn.metrics import accuracy_score\n",
        "train_pred = (model.predict(train_data) > 0.5).astype(\"int32\")\n",
        "#train_pred = to_categorical(train_pred, num_classes, dtype='float32')\n",
        "train_acc = accuracy_score(train_labels, train_pred)\n",
        "\n",
        "test_pred = train_pred = (model.predict(test_data) > 0.5).astype(\"int32\")\n",
        "#test_pred = to_categorical(test_pred, num_classes, dtype= 'float32')\n",
        "test_acc = accuracy_score(test_labels, test_pred )\n",
        "\n",
        "validation_pred = train_pred = (model.predict(validation_data) > 0.5).astype(\"int32\")\n",
        "#validation_pred = to_categorical(validation_pred, num_classes, dtype='float32')\n",
        "validation_acc = accuracy_score(validation_labels, validation_pred)\n",
        "\n",
        "print(\"Train Accuracy: \" , train_acc*100, \"%\")\n",
        "print(\"Test Accuracy: \" , test_acc*100, \"%\")\n",
        "print(\"Validation Accuracy: \" , validation_acc*100, \"%\")"
      ],
      "execution_count": 12,
      "outputs": [
        {
          "output_type": "stream",
          "text": [
            "Train Accuracy:  100.0 %\n",
            "Test Accuracy:  85.71428571428571 %\n",
            "Validation Accuracy:  58.88888888888889 %\n"
          ],
          "name": "stdout"
        }
      ]
    },
    {
      "cell_type": "markdown",
      "metadata": {
        "id": "zWkEmK9ydZyc"
      },
      "source": [
        "# **Confusion Matrix**"
      ]
    },
    {
      "cell_type": "code",
      "metadata": {
        "colab": {
          "base_uri": "https://localhost:8080/"
        },
        "id": "roVORI2SdYPn",
        "outputId": "31554faa-344c-4352-90f5-3e7c86b4e1e5"
      },
      "source": [
        "\n",
        "print(metrics.confusion_matrix(test_labels, test_pred))\n"
      ],
      "execution_count": 13,
      "outputs": [
        {
          "output_type": "stream",
          "text": [
            "[[216  89]\n",
            " [  0 318]]\n"
          ],
          "name": "stdout"
        }
      ]
    },
    {
      "cell_type": "markdown",
      "metadata": {
        "id": "1u_hdKtQiUfe"
      },
      "source": [
        "# **Save Model**"
      ]
    },
    {
      "cell_type": "code",
      "metadata": {
        "colab": {
          "base_uri": "https://localhost:8080/"
        },
        "id": "OKD_R2qCiI48",
        "outputId": "a49a3f78-a873-47da-852e-e20a17a0dc38"
      },
      "source": [
        "# Save the Modle to file in the current working directory\n",
        "# serialize model to JSON\n",
        "model_json = model.to_json()\n",
        "with open(\"/content/drive/MyDrive/Thesis work/VGG16model.json\", \"w\") as json_file:\n",
        "    json_file.write(model_json)\n",
        "# serialize weights to HDF5\n",
        "model.save_weights(\"/content/drive/MyDrive/Thesis work/VGG16model.h5\")\n",
        "print(\"Saved model to disk\")"
      ],
      "execution_count": 14,
      "outputs": [
        {
          "output_type": "stream",
          "text": [
            "Saved model to disk\n"
          ],
          "name": "stdout"
        }
      ]
    },
    {
      "cell_type": "markdown",
      "metadata": {
        "id": "-B64jVPglDg7"
      },
      "source": [
        "# **Load Model**"
      ]
    },
    {
      "cell_type": "code",
      "metadata": {
        "colab": {
          "base_uri": "https://localhost:8080/"
        },
        "id": "83Xp0A76iTkG",
        "outputId": "08466f63-dc91-434d-eac5-777078ef6a05"
      },
      "source": [
        "# Load the Model back from file\n",
        "from keras.models import model_from_json\n",
        "json_file = open('/content/drive/MyDrive/Thesis work/VGG16model.json', 'r')\n",
        "loaded_model_json = json_file.read()\n",
        "json_file.close()\n",
        "loaded_model = model_from_json(loaded_model_json)\n",
        "# load weights into new model\n",
        "loaded_model.load_weights(\"/content/drive/MyDrive/Thesis work/VGG16model.h5\")\n",
        "print(\"Loaded model from disk\")"
      ],
      "execution_count": 15,
      "outputs": [
        {
          "output_type": "stream",
          "text": [
            "Loaded model from disk\n"
          ],
          "name": "stdout"
        }
      ]
    },
    {
      "cell_type": "markdown",
      "metadata": {
        "id": "GkAZ_3Af-wRy"
      },
      "source": [
        "## **Evaluate model on test data**"
      ]
    },
    {
      "cell_type": "code",
      "metadata": {
        "colab": {
          "base_uri": "https://localhost:8080/"
        },
        "id": "rqrxz_rT8867",
        "outputId": "f1ebc15d-9d52-450b-d230-bff266340b90"
      },
      "source": [
        "# evaluate loaded model on test data\n",
        "\n",
        "loaded_model.compile(loss='binary_crossentropy', optimizer='rmsprop', metrics=['accuracy'])\n",
        "prediction = loaded_model.predict_classes(test_data)\n",
        "prediction = to_categorical(prediction)\n",
        "accuracy_score = accuracy_score(test_labels, prediction)\n",
        "print(\"Accuracy score: %.2f %\", accuracy_score)\n",
        "#score = loaded_model.evaluate(validation_data, validation_labels, verbose=0)\n"
      ],
      "execution_count": null,
      "outputs": [
        {
          "output_type": "stream",
          "text": [
            "/usr/local/lib/python3.7/dist-packages/keras/engine/sequential.py:450: UserWarning: `model.predict_classes()` is deprecated and will be removed after 2021-01-01. Please use instead:* `np.argmax(model.predict(x), axis=-1)`,   if your model does multi-class classification   (e.g. if it uses a `softmax` last-layer activation).* `(model.predict(x) > 0.5).astype(\"int32\")`,   if your model does binary classification   (e.g. if it uses a `sigmoid` last-layer activation).\n",
            "  warnings.warn('`model.predict_classes()` is deprecated and '\n"
          ],
          "name": "stderr"
        },
        {
          "output_type": "stream",
          "text": [
            "Accuracy score: %.2f % 0.8828250401284109\n"
          ],
          "name": "stdout"
        }
      ]
    },
    {
      "cell_type": "markdown",
      "metadata": {
        "id": "bVSekf28qroS"
      },
      "source": [
        "Code for visualization of the Accuracy and Loss:"
      ]
    },
    {
      "cell_type": "code",
      "metadata": {
        "colab": {
          "base_uri": "https://localhost:8080/",
          "height": 231
        },
        "id": "M1bY9P_Moh8U",
        "outputId": "20bddc4d-3ea2-400e-c9a2-099391a49dc0"
      },
      "source": [
        "#Graphing our training and validation\n",
        "acc = history.history['acc']\n",
        "val_acc = history.history['val_acc']\n",
        "loss = history.history['loss']\n",
        "val_loss = history.history['val_loss']\n",
        "epochs = range(len(acc))\n",
        "plt.plot(epochs, acc, 'r', label='Training acc')\n",
        "plt.plot(epochs, val_acc, 'b', label='Validation acc')\n",
        "plt.title('Training and validation accuracy')\n",
        "plt.ylabel('accuracy') \n",
        "plt.xlabel('epoch')\n",
        "plt.legend()\n",
        "plt.figure()\n",
        "plt.plot(epochs, loss, 'r', label='Training loss')\n",
        "plt.plot(epochs, val_loss, 'b', label='Validation loss')\n",
        "plt.title('Training and validation loss')\n",
        "plt.ylabel('loss') \n",
        "plt.xlabel('epoch')\n",
        "plt.legend()\n",
        "plt.show()"
      ],
      "execution_count": null,
      "outputs": [
        {
          "output_type": "error",
          "ename": "KeyError",
          "evalue": "ignored",
          "traceback": [
            "\u001b[0;31m---------------------------------------------------------------------------\u001b[0m",
            "\u001b[0;31mKeyError\u001b[0m                                  Traceback (most recent call last)",
            "\u001b[0;32m<ipython-input-52-4d0c5d58be10>\u001b[0m in \u001b[0;36m<module>\u001b[0;34m()\u001b[0m\n\u001b[1;32m      1\u001b[0m \u001b[0;31m#Graphing our training and validation\u001b[0m\u001b[0;34m\u001b[0m\u001b[0;34m\u001b[0m\u001b[0;34m\u001b[0m\u001b[0m\n\u001b[1;32m      2\u001b[0m \u001b[0macc\u001b[0m \u001b[0;34m=\u001b[0m \u001b[0mhistory\u001b[0m\u001b[0;34m.\u001b[0m\u001b[0mhistory\u001b[0m\u001b[0;34m[\u001b[0m\u001b[0;34m'acc'\u001b[0m\u001b[0;34m]\u001b[0m\u001b[0;34m\u001b[0m\u001b[0;34m\u001b[0m\u001b[0m\n\u001b[0;32m----> 3\u001b[0;31m \u001b[0mval_acc\u001b[0m \u001b[0;34m=\u001b[0m \u001b[0mhistory\u001b[0m\u001b[0;34m.\u001b[0m\u001b[0mhistory\u001b[0m\u001b[0;34m[\u001b[0m\u001b[0;34m'val_acc'\u001b[0m\u001b[0;34m]\u001b[0m\u001b[0;34m\u001b[0m\u001b[0;34m\u001b[0m\u001b[0m\n\u001b[0m\u001b[1;32m      4\u001b[0m \u001b[0mloss\u001b[0m \u001b[0;34m=\u001b[0m \u001b[0mhistory\u001b[0m\u001b[0;34m.\u001b[0m\u001b[0mhistory\u001b[0m\u001b[0;34m[\u001b[0m\u001b[0;34m'loss'\u001b[0m\u001b[0;34m]\u001b[0m\u001b[0;34m\u001b[0m\u001b[0;34m\u001b[0m\u001b[0m\n\u001b[1;32m      5\u001b[0m \u001b[0mval_loss\u001b[0m \u001b[0;34m=\u001b[0m \u001b[0mhistory\u001b[0m\u001b[0;34m.\u001b[0m\u001b[0mhistory\u001b[0m\u001b[0;34m[\u001b[0m\u001b[0;34m'val_loss'\u001b[0m\u001b[0;34m]\u001b[0m\u001b[0;34m\u001b[0m\u001b[0;34m\u001b[0m\u001b[0m\n",
            "\u001b[0;31mKeyError\u001b[0m: 'val_acc'"
          ]
        }
      ]
    },
    {
      "cell_type": "markdown",
      "metadata": {
        "id": "rP5kg5H8uGxp"
      },
      "source": [
        "# **ROC AUC**"
      ]
    },
    {
      "cell_type": "code",
      "metadata": {
        "colab": {
          "base_uri": "https://localhost:8080/"
        },
        "id": "61ISNfbnJ-OM",
        "outputId": "45dacc7d-2c69-42ab-f3e1-7f69db68db6f"
      },
      "source": [
        "from sklearn.metrics import roc_curve\n",
        "from sklearn.metrics import roc_auc_score\n",
        "# generate a no skill prediction (majority class)\n",
        "y_score1 = model.predict_proba(test_data)\n",
        "false_positive_rate1, true_positive_rate1, threshold1 = roc_curve(test_labels, y_score1)\n",
        "print('roc_auc_score for VGG16: ', roc_auc_score(test_labels, y_score1))"
      ],
      "execution_count": 16,
      "outputs": [
        {
          "output_type": "stream",
          "text": [
            "roc_auc_score for VGG16:  0.9595834622125992\n"
          ],
          "name": "stdout"
        },
        {
          "output_type": "stream",
          "text": [
            "/usr/local/lib/python3.7/dist-packages/tensorflow/python/keras/engine/sequential.py:430: UserWarning: `model.predict_proba()` is deprecated and will be removed after 2021-01-01. Please use `model.predict()` instead.\n",
            "  warnings.warn('`model.predict_proba()` is deprecated and '\n"
          ],
          "name": "stderr"
        }
      ]
    },
    {
      "cell_type": "code",
      "metadata": {
        "colab": {
          "base_uri": "https://localhost:8080/",
          "height": 638
        },
        "id": "Aaa0x3_MuMs_",
        "outputId": "4504691f-f431-45f9-db56-cc2d3ea54d84"
      },
      "source": [
        "#Plot ROC AUC curve\n",
        "plt.subplots(1, figsize=(10,10))\n",
        "plt.title('Receiver Operating Characteristic - VGG16')\n",
        "plt.plot(false_positive_rate1, true_positive_rate1)\n",
        "plt.plot([0, 1], ls=\"--\")\n",
        "plt.plot([0, 0], [1, 0] , c=\".7\"), plt.plot([1, 1] , c=\".7\")\n",
        "plt.ylabel('True Positive Rate')\n",
        "plt.xlabel('False Positive Rate')\n",
        "plt.legend()\n",
        "plt.show()\n",
        "\n"
      ],
      "execution_count": 17,
      "outputs": [
        {
          "output_type": "stream",
          "text": [
            "No handles with labels found to put in legend.\n"
          ],
          "name": "stderr"
        },
        {
          "output_type": "display_data",
          "data": {
            "image/png": "[encoded data removed]",
            "text/plain": [
              "<Figure size 720x720 with 1 Axes>"
            ]
          },
          "metadata": {
            "tags": [],
            "needs_background": "light"
          }
        }
      ]
    },
    {
      "cell_type": "markdown",
      "metadata": {
        "id": "qdylweKdxjL1"
      },
      "source": [
        "# **Plot ROC- AUC curve**"
      ]
    },
    {
      "cell_type": "code",
      "metadata": {
        "colab": {
          "base_uri": "https://localhost:8080/",
          "height": 476
        },
        "id": "ef9uqqXh8uce",
        "outputId": "07267660-9c35-4aea-b788-74f9616dccc0"
      },
      "source": [
        "\n",
        "ns_probs = [0 for _ in range(len(test_labels))]\n",
        "\n",
        "# predict probabilities\n",
        "lr_probs = model.predict_proba(test_data)\n",
        "# keep probabilities for the positive outcome only\n",
        "#lr_probs = lr_probs[:, 0]\n",
        "# calculate scores\n",
        "ns_auc = roc_auc_score(test_labels, ns_probs)\n",
        "lr_auc = roc_auc_score(test_labels, lr_probs)\n",
        "# summarize scores\n",
        "print('No Skill: ROC AUC=%.3f' % (ns_auc))\n",
        "print('VGG16: ROC AUC=%.3f' % (lr_auc))\n",
        "# calculate roc curves\n",
        "ns_fpr, ns_tpr, _ = roc_curve(test_labels, ns_probs)\n",
        "lr_fpr, lr_tpr, _ = roc_curve(test_labels, lr_probs)\n",
        "# plot the roc curve for the model\n",
        "plt.subplots(1, figsize=(10,6))\n",
        "plt.plot(ns_fpr, ns_tpr, linestyle='--', label='No Skill')\n",
        "plt.plot(lr_fpr, lr_tpr, marker='.', label='VGG16')\n",
        "# axis labels\n",
        "plt.xlabel('False Positive Rate')\n",
        "plt.ylabel('True Positive Rate')\n",
        "# show the legend\n",
        "plt.legend()\n",
        "# show the plot\n",
        "plt.show()"
      ],
      "execution_count": 18,
      "outputs": [
        {
          "output_type": "stream",
          "text": [
            "/usr/local/lib/python3.7/dist-packages/tensorflow/python/keras/engine/sequential.py:430: UserWarning: `model.predict_proba()` is deprecated and will be removed after 2021-01-01. Please use `model.predict()` instead.\n",
            "  warnings.warn('`model.predict_proba()` is deprecated and '\n"
          ],
          "name": "stderr"
        },
        {
          "output_type": "stream",
          "text": [
            "No Skill: ROC AUC=0.500\n",
            "VGG16: ROC AUC=0.960\n"
          ],
          "name": "stdout"
        },
        {
          "output_type": "display_data",
          "data": {
            "image/png": "[encoded data removed]",
            "text/plain": [
              "<Figure size 720x432 with 1 Axes>"
            ]
          },
          "metadata": {
            "tags": [],
            "needs_background": "light"
          }
        }
      ]
    }
  ]
}