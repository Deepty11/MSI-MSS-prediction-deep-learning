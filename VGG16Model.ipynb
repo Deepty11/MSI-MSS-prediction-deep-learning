{
  "nbformat": 4,
  "nbformat_minor": 0,
  "metadata": {
    "colab": {
      "name": "VGG16onMSIvsMSS.ipynb",
      "provenance": [],
      "toc_visible": true,
      "authorship_tag": "ABX9TyN9jTGsm0kRHu5xHPRW2sGh",
      "include_colab_link": true
    },
    "kernelspec": {
      "display_name": "Python 3",
      "name": "python3"
    },
    "language_info": {
      "name": "python"
    }
  },
  "cells": [
    {
      "cell_type": "markdown",
      "metadata": {
        "id": "view-in-github",
        "colab_type": "text"
      },
      "source": [
        "<a href=\"https://colab.research.google.com/github/Deepty11/MSI-MSS-prediction-deep-learning/blob/main/VGG16Model.ipynb\" target=\"_parent\"><img src=\"https://colab.research.google.com/assets/colab-badge.svg\" alt=\"Open In Colab\"/></a>"
      ]
    },
    {
      "cell_type": "code",
      "metadata": {
        "id": "pNBAPRWZqdXL"
      },
      "source": [
        "!pip install keras==2.3.0"
      ],
      "execution_count": null,
      "outputs": []
    },
    {
      "cell_type": "code",
      "metadata": {
        "colab": {
          "base_uri": "https://localhost:8080/"
        },
        "id": "wpQmrphVXr-P",
        "outputId": "3cb00361-e750-4ced-f2f4-9ccd763210e6"
      },
      "source": [
        "from google.colab import drive\n",
        "drive.mount('/content/drive')"
      ],
      "execution_count": 1,
      "outputs": [
        {
          "output_type": "stream",
          "text": [
            "Mounted at /content/drive\n"
          ],
          "name": "stdout"
        }
      ]
    },
    {
      "cell_type": "code",
      "metadata": {
        "id": "bL2eDlncYaX3"
      },
      "source": [
        "import pandas as pd\n",
        "import numpy as np \n",
        "import itertools\n",
        "import tensorflow as tf\n",
        "from tensorflow import keras\n",
        "\n",
        "from sklearn import metrics\n",
        "from sklearn.metrics import confusion_matrix\n",
        "from tensorflow.keras.preprocessing import image\n",
        "from tensorflow.keras.preprocessing.image import ImageDataGenerator, img_to_array, load_img \n",
        "from tensorflow.keras.models import Sequential \n",
        "from tensorflow.keras import optimizers\n",
        "from tensorflow.keras.preprocessing import image\n",
        "from tensorflow.keras.layers import Dropout, Flatten, Dense \n",
        "from tensorflow.keras import applications \n",
        "from keras.utils.np_utils import to_categorical \n",
        "from tensorflow.keras.applications.vgg16 import VGG16\n",
        "import matplotlib.pyplot as plt \n",
        "import matplotlib.image as mpimg\n",
        "%matplotlib inline\n",
        "import math \n",
        "import datetime\n",
        "import time"
      ],
      "execution_count": 2,
      "outputs": []
    },
    {
      "cell_type": "code",
      "metadata": {
        "id": "DsrVBnfsYgCA"
      },
      "source": [
        "#Default dimensions we found online\n",
        "img_width, img_height = 512, 512 \n",
        " \n",
        "#Create a bottleneck file\n",
        "top_model_weights_path = 'bottleneck_fc_model.h5'\n",
        "# loading up our datasets\n",
        "train_data_dir = '/content/drive/MyDrive/Thesis work/augmented/train'\n",
        "validation_data_dir = '/content/drive/MyDrive/Thesis work/augmented/val ' \n",
        "test_data_dir = '/content/drive/MyDrive/Thesis work/augmented/test'\n",
        "#test_data_dir = ‘data/test’\n",
        " \n",
        "# number of epochs to train top model \n",
        "#epochs = 50 #this has been changed after multiple model run \n",
        "# batch size used by flow_from_directory and predict_generator \n",
        "batch_size = 40 "
      ],
      "execution_count": 39,
      "outputs": []
    },
    {
      "cell_type": "code",
      "metadata": {
        "id": "vYe8FKA_Y4M5"
      },
      "source": [
        "#Loading vgc16 model\n",
        "vgg16 = VGG16(include_top=False, weights='imagenet')\n",
        "datagen = ImageDataGenerator(rescale=1. / 255) \n",
        "#needed to create the bottleneck .npy files"
      ],
      "execution_count": 59,
      "outputs": []
    },
    {
      "cell_type": "markdown",
      "metadata": {
        "id": "YHtQbkzvx50U"
      },
      "source": [
        "# Bottleneck data for train data"
      ]
    },
    {
      "cell_type": "markdown",
      "metadata": {
        "id": "RulYmjy7ZdwI"
      },
      "source": [
        "Creation of the weights and feature using VGG16:\n"
      ]
    },
    {
      "cell_type": "code",
      "metadata": {
        "colab": {
          "base_uri": "https://localhost:8080/"
        },
        "id": "RgnXTAfgZBkQ",
        "outputId": "6dc88dde-26d9-4fb1-e9f9-018f9322ad0d"
      },
      "source": [
        "#__this can take an hour and half to run so only run it once. \n",
        "#once the npy files have been created, no need to run again. Convert this cell to a code cell to run.__\n",
        "start = datetime.datetime.now()\n",
        " \n",
        "generator = datagen.flow_from_directory( \n",
        "    train_data_dir, \n",
        "    target_size=(img_width, img_height), \n",
        "    batch_size=batch_size, \n",
        "    class_mode=None, \n",
        "    shuffle=False) \n",
        " \n",
        "nb_train_samples = len(generator.filenames) \n",
        "num_classes = len(generator.class_indices) \n",
        " \n",
        "predict_size_train = int(math.ceil(nb_train_samples / batch_size)) \n",
        " \n",
        "bottleneck_features_train = vgg16.predict_generator(generator, predict_size_train) \n",
        " \n",
        "np.save('/content/drive/MyDrive/Thesis work/bottleneck_features_train.npy', bottleneck_features_train)\n",
        "end= datetime.datetime.now()\n",
        "elapsed= end-start\n",
        "print ('Time: ', elapsed)"
      ],
      "execution_count": null,
      "outputs": [
        {
          "output_type": "stream",
          "text": [
            "Found 1249 images belonging to 2 classes.\n"
          ],
          "name": "stdout"
        },
        {
          "output_type": "stream",
          "text": [
            "/usr/local/lib/python3.7/dist-packages/tensorflow/python/keras/engine/training.py:2001: UserWarning: `Model.predict_generator` is deprecated and will be removed in a future version. Please use `Model.predict`, which supports generators.\n",
            "  warnings.warn('`Model.predict_generator` is deprecated and '\n"
          ],
          "name": "stderr"
        },
        {
          "output_type": "stream",
          "text": [
            "Time:  0:30:44.987485\n"
          ],
          "name": "stdout"
        }
      ]
    },
    {
      "cell_type": "markdown",
      "metadata": {
        "id": "mfqaO67KhRFL"
      },
      "source": [
        "Creating a bottleneck file for the training data. (Same step for validation and testing):"
      ]
    },
    {
      "cell_type": "code",
      "metadata": {
        "colab": {
          "base_uri": "https://localhost:8080/"
        },
        "id": "fdED6RZThM_e",
        "outputId": "ba7ec013-e82b-4220-b9c4-ea670cc44dac"
      },
      "source": [
        "#training data\n",
        "generator_top = datagen.flow_from_directory( \n",
        "   train_data_dir, \n",
        "   target_size=(img_width, img_height), \n",
        "   batch_size=batch_size, \n",
        "   class_mode= None, \n",
        "   shuffle=False) \n",
        " \n",
        "nb_train_samples = len(generator_top.filenames) \n",
        "num_classes = len(generator_top.class_indices) \n",
        " \n",
        "# load the bottleneck features saved earlier \n",
        "train_data = np.load('/content/drive/MyDrive/Thesis work/bottleneck_features_train.npy') \n",
        " \n",
        "# get the class labels for the training data, in the original order \n",
        "train_labels = generator_top.classes \n",
        " \n",
        "# convert the training labels to categorical vectors \n",
        "#train_labels = to_categorical(train_labels, num_classes=num_classes)\n",
        "train_labels"
      ],
      "execution_count": 61,
      "outputs": [
        {
          "output_type": "stream",
          "text": [
            "Found 1249 images belonging to 2 classes.\n"
          ],
          "name": "stdout"
        },
        {
          "output_type": "execute_result",
          "data": {
            "text/plain": [
              "array([0, 0, 0, ..., 1, 1, 1], dtype=int32)"
            ]
          },
          "metadata": {
            "tags": []
          },
          "execution_count": 61
        }
      ]
    },
    {
      "cell_type": "markdown",
      "metadata": {
        "id": "iVXFOfQ5x-Pp"
      },
      "source": [
        "# Bottleneck data for validation data"
      ]
    },
    {
      "cell_type": "code",
      "metadata": {
        "colab": {
          "base_uri": "https://localhost:8080/"
        },
        "id": "WXP115RpiOox",
        "outputId": "56f4f64f-13f0-4a96-9179-01560c808643"
      },
      "source": [
        "#__this can take an hour and half to run so only run it once. \n",
        "#once the npy files have been created, no need to run again. Convert this cell to a code cell to run.__\n",
        "start = datetime.datetime.now()\n",
        " \n",
        "generator = datagen.flow_from_directory( \n",
        "    validation_data_dir, \n",
        "    target_size=(img_width, img_height), \n",
        "    batch_size=batch_size, \n",
        "    class_mode=None, \n",
        "    shuffle=False) \n",
        " \n",
        "nb_validation_samples = len(generator.filenames) \n",
        "num_classes = len(generator.class_indices) \n",
        " \n",
        "predict_size_validation = int(math.ceil(nb_validation_samples / batch_size)) \n",
        " \n",
        "bottleneck_features_validation = vgg16.predict_generator(generator, predict_size_validation) \n",
        " \n",
        "np.save('/content/drive/MyDrive/Thesis work/bottleneck_features_validation.npy', bottleneck_features_validation)\n",
        "end= datetime.datetime.now()\n",
        "elapsed= end-start\n",
        "print ('Time: ', elapsed)"
      ],
      "execution_count": 40,
      "outputs": [
        {
          "output_type": "stream",
          "text": [
            "Found 630 images belonging to 2 classes.\n"
          ],
          "name": "stdout"
        },
        {
          "output_type": "stream",
          "text": [
            "/usr/local/lib/python3.7/dist-packages/tensorflow/python/keras/engine/training.py:2001: UserWarning: `Model.predict_generator` is deprecated and will be removed in a future version. Please use `Model.predict`, which supports generators.\n",
            "  warnings.warn('`Model.predict_generator` is deprecated and '\n"
          ],
          "name": "stderr"
        },
        {
          "output_type": "stream",
          "text": [
            "Time:  0:28:12.553161\n"
          ],
          "name": "stdout"
        }
      ]
    },
    {
      "cell_type": "code",
      "metadata": {
        "colab": {
          "base_uri": "https://localhost:8080/"
        },
        "id": "dQ3Xz4U4hfnK",
        "outputId": "3e36c82e-649e-41f9-e182-658b37b6703f"
      },
      "source": [
        "#validation data\n",
        "generator_top = datagen.flow_from_directory( \n",
        "   validation_data_dir, \n",
        "   target_size=(img_width, img_height), \n",
        "   batch_size=batch_size, \n",
        "   class_mode= None, \n",
        "   shuffle=False) \n",
        " \n",
        "nb_validation_samples = len(generator_top.filenames) \n",
        "num_classes = len(generator_top.class_indices) \n",
        " \n",
        "# load the bottleneck features saved earlier \n",
        "validation_data = np.load('/content/drive/MyDrive/Thesis work/bottleneck_features_validation.npy') \n",
        " \n",
        "# get the class labels for the training data, in the original order \n",
        "validation_labels = generator_top.classes \n",
        " \n",
        "# convert the training labels to categorical vectors \n",
        "#validation_labels = to_categorical(validation_labels, num_classes=num_classes)"
      ],
      "execution_count": 62,
      "outputs": [
        {
          "output_type": "stream",
          "text": [
            "Found 630 images belonging to 2 classes.\n"
          ],
          "name": "stdout"
        }
      ]
    },
    {
      "cell_type": "markdown",
      "metadata": {
        "id": "rWuHYErOyCkt"
      },
      "source": [
        "# Bottleneck data for test data"
      ]
    },
    {
      "cell_type": "code",
      "metadata": {
        "colab": {
          "base_uri": "https://localhost:8080/"
        },
        "id": "hf7UiVqc_vlx",
        "outputId": "d3cc087c-bdff-45a4-a03f-f1c0e17e256b"
      },
      "source": [
        "#__this can take an hour and half to run so only run it once. \n",
        "#once the npy files have been created, no need to run again. Convert this cell to a code cell to run.__\n",
        "start = datetime.datetime.now()\n",
        " \n",
        "generator = datagen.flow_from_directory( \n",
        "    test_data_dir, \n",
        "    target_size=(img_width, img_height), \n",
        "    batch_size=batch_size, \n",
        "    class_mode= None, \n",
        "    shuffle=False) \n",
        " \n",
        "nb_validation_samples = len(generator.filenames) \n",
        "num_classes = len(generator.class_indices) \n",
        " \n",
        "predict_size_validation = int(math.ceil(nb_validation_samples / batch_size)) \n",
        " \n",
        "bottleneck_features_validation = vgg16.predict_generator(generator, predict_size_validation) \n",
        " \n",
        "np.save('/content/drive/MyDrive/Thesis work/bottleneck_features_test.npy', bottleneck_features_validation)\n",
        "end= datetime.datetime.now()\n",
        "elapsed= end-start\n",
        "print ('Time: ', elapsed)"
      ],
      "execution_count": null,
      "outputs": [
        {
          "output_type": "stream",
          "text": [
            "Found 623 images belonging to 2 classes.\n"
          ],
          "name": "stdout"
        },
        {
          "output_type": "stream",
          "text": [
            "/usr/local/lib/python3.7/dist-packages/tensorflow/python/keras/engine/training.py:2001: UserWarning: `Model.predict_generator` is deprecated and will be removed in a future version. Please use `Model.predict`, which supports generators.\n",
            "  warnings.warn('`Model.predict_generator` is deprecated and '\n"
          ],
          "name": "stderr"
        },
        {
          "output_type": "stream",
          "text": [
            "Time:  0:15:43.714911\n"
          ],
          "name": "stdout"
        }
      ]
    },
    {
      "cell_type": "code",
      "metadata": {
        "colab": {
          "base_uri": "https://localhost:8080/"
        },
        "id": "KQyqA5Kj_vJh",
        "outputId": "0084cd94-3e78-4d6c-f9cb-7ed69efb59ea"
      },
      "source": [
        "#test data\n",
        "\n",
        "generator_top = datagen.flow_from_directory( \n",
        "   test_data_dir, \n",
        "   target_size=(img_width, img_height), \n",
        "   batch_size=batch_size, \n",
        "   class_mode= None, \n",
        "   shuffle=False) \n",
        " \n",
        "nb_test_samples = len(generator_top.filenames) \n",
        "num_classes = len(generator_top.class_indices) \n",
        " \n",
        "# load the bottleneck features saved earlier \n",
        "test_data = np.load('/content/drive/MyDrive/Thesis work/bottleneck_features_test.npy') \n",
        " \n",
        "# get the class labels for the training data, in the original order \n",
        "test_labels = generator_top.classes \n",
        " \n",
        "# convert the training labels to categorical vectors \n",
        "#test_labels = to_categorical(test_labels, num_classes=num_classes)"
      ],
      "execution_count": 63,
      "outputs": [
        {
          "output_type": "stream",
          "text": [
            "Found 623 images belonging to 2 classes.\n"
          ],
          "name": "stdout"
        }
      ]
    },
    {
      "cell_type": "markdown",
      "metadata": {
        "id": "eZy1geSHyHWM"
      },
      "source": [
        "# Compile and Fit model"
      ]
    },
    {
      "cell_type": "code",
      "metadata": {
        "colab": {
          "base_uri": "https://localhost:8080/"
        },
        "id": "OdvUOiDhm3Av",
        "outputId": "343c55b3-01ef-469e-b363-fb7d79fdb24d"
      },
      "source": [
        "#This is the best model we found. For additional models, check out I_notebook.ipynb\n",
        "start = datetime.datetime.now()\n",
        "model = Sequential() \n",
        "model.add(Flatten(input_shape=train_data.shape[1:])) \n",
        "model.add(Dense(100, activation=keras.layers.LeakyReLU(alpha=0.3))) \n",
        "model.add(Dropout(0.8)) \n",
        "# model.add(Dense(100, activation=keras.layers.LeakyReLU(alpha=0.3))) \n",
        "# model.add(Dropout(0.5)) \n",
        "model.add(Dense(1, activation='sigmoid'))\n",
        "model.compile(loss='binary_crossentropy',\n",
        "   optimizer=optimizers.RMSprop(learning_rate=1e-4),\n",
        "   metrics=['acc'])\n",
        "\n",
        "history = model.fit(train_data, train_labels, \n",
        "   epochs=100,\n",
        "   batch_size=64)\n",
        "\n",
        "model.save_weights(top_model_weights_path)\n",
        "\n",
        "\n",
        "end= datetime.datetime.now()\n",
        "elapsed= end-start\n",
        "print (\"Time: \", elapsed)"
      ],
      "execution_count": 73,
      "outputs": [
        {
          "output_type": "stream",
          "text": [
            "Epoch 1/100\n",
            "20/20 [==============================] - 5s 193ms/step - loss: 2.6590 - acc: 0.5308\n",
            "Epoch 2/100\n",
            "20/20 [==============================] - 4s 188ms/step - loss: 1.5200 - acc: 0.5436\n",
            "Epoch 3/100\n",
            "20/20 [==============================] - 4s 187ms/step - loss: 1.4668 - acc: 0.5893\n",
            "Epoch 4/100\n",
            "20/20 [==============================] - 4s 187ms/step - loss: 1.5576 - acc: 0.5460\n",
            "Epoch 5/100\n",
            "20/20 [==============================] - 4s 189ms/step - loss: 1.2744 - acc: 0.5941\n",
            "Epoch 6/100\n",
            "20/20 [==============================] - 4s 192ms/step - loss: 1.4246 - acc: 0.5877\n",
            "Epoch 7/100\n",
            "20/20 [==============================] - 4s 195ms/step - loss: 1.3329 - acc: 0.6085\n",
            "Epoch 8/100\n",
            "20/20 [==============================] - 4s 192ms/step - loss: 1.0476 - acc: 0.6477\n",
            "Epoch 9/100\n",
            "20/20 [==============================] - 4s 192ms/step - loss: 1.2798 - acc: 0.6261\n",
            "Epoch 10/100\n",
            "20/20 [==============================] - 4s 194ms/step - loss: 1.1068 - acc: 0.6581\n",
            "Epoch 11/100\n",
            "20/20 [==============================] - 4s 192ms/step - loss: 0.8854 - acc: 0.6741\n",
            "Epoch 12/100\n",
            "20/20 [==============================] - 4s 188ms/step - loss: 0.9446 - acc: 0.6894\n",
            "Epoch 13/100\n",
            "20/20 [==============================] - 4s 190ms/step - loss: 1.2293 - acc: 0.6181\n",
            "Epoch 14/100\n",
            "20/20 [==============================] - 4s 190ms/step - loss: 0.8880 - acc: 0.7310\n",
            "Epoch 15/100\n",
            "20/20 [==============================] - 4s 191ms/step - loss: 0.8563 - acc: 0.7022\n",
            "Epoch 16/100\n",
            "20/20 [==============================] - 4s 189ms/step - loss: 0.9152 - acc: 0.7190\n",
            "Epoch 17/100\n",
            "20/20 [==============================] - 4s 191ms/step - loss: 0.8061 - acc: 0.7734\n",
            "Epoch 18/100\n",
            "20/20 [==============================] - 4s 190ms/step - loss: 0.9519 - acc: 0.6894\n",
            "Epoch 19/100\n",
            "20/20 [==============================] - 4s 188ms/step - loss: 0.7359 - acc: 0.7654\n",
            "Epoch 20/100\n",
            "20/20 [==============================] - 4s 189ms/step - loss: 0.6984 - acc: 0.7622\n",
            "Epoch 21/100\n",
            "20/20 [==============================] - 4s 189ms/step - loss: 0.8463 - acc: 0.7198\n",
            "Epoch 22/100\n",
            "20/20 [==============================] - 4s 191ms/step - loss: 0.8288 - acc: 0.7670\n",
            "Epoch 23/100\n",
            "20/20 [==============================] - 4s 191ms/step - loss: 0.7334 - acc: 0.7638\n",
            "Epoch 24/100\n",
            "20/20 [==============================] - 4s 189ms/step - loss: 0.6407 - acc: 0.7806\n",
            "Epoch 25/100\n",
            "20/20 [==============================] - 4s 187ms/step - loss: 0.5319 - acc: 0.8159\n",
            "Epoch 26/100\n",
            "20/20 [==============================] - 4s 190ms/step - loss: 0.7493 - acc: 0.7606\n",
            "Epoch 27/100\n",
            "20/20 [==============================] - 4s 188ms/step - loss: 0.6709 - acc: 0.7742\n",
            "Epoch 28/100\n",
            "20/20 [==============================] - 4s 188ms/step - loss: 0.7790 - acc: 0.7558\n",
            "Epoch 29/100\n",
            "20/20 [==============================] - 4s 188ms/step - loss: 0.4812 - acc: 0.8207\n",
            "Epoch 30/100\n",
            "20/20 [==============================] - 4s 189ms/step - loss: 0.6550 - acc: 0.7686\n",
            "Epoch 31/100\n",
            "20/20 [==============================] - 4s 188ms/step - loss: 0.4829 - acc: 0.8279\n",
            "Epoch 32/100\n",
            "20/20 [==============================] - 4s 188ms/step - loss: 0.5299 - acc: 0.8263\n",
            "Epoch 33/100\n",
            "20/20 [==============================] - 4s 189ms/step - loss: 0.5163 - acc: 0.8231\n",
            "Epoch 34/100\n",
            "20/20 [==============================] - 4s 190ms/step - loss: 0.5758 - acc: 0.8175\n",
            "Epoch 35/100\n",
            "20/20 [==============================] - 4s 188ms/step - loss: 0.4984 - acc: 0.8431\n",
            "Epoch 36/100\n",
            "20/20 [==============================] - 4s 187ms/step - loss: 0.4618 - acc: 0.8399\n",
            "Epoch 37/100\n",
            "20/20 [==============================] - 4s 191ms/step - loss: 0.3939 - acc: 0.8847\n",
            "Epoch 38/100\n",
            "20/20 [==============================] - 4s 188ms/step - loss: 0.5059 - acc: 0.8519\n",
            "Epoch 39/100\n",
            "20/20 [==============================] - 4s 188ms/step - loss: 0.4792 - acc: 0.8599\n",
            "Epoch 40/100\n",
            "20/20 [==============================] - 4s 190ms/step - loss: 0.2759 - acc: 0.8951\n",
            "Epoch 41/100\n",
            "20/20 [==============================] - 4s 186ms/step - loss: 0.4945 - acc: 0.8743\n",
            "Epoch 42/100\n",
            "20/20 [==============================] - 4s 189ms/step - loss: 0.5924 - acc: 0.8823\n",
            "Epoch 43/100\n",
            "20/20 [==============================] - 4s 188ms/step - loss: 0.4296 - acc: 0.8671\n",
            "Epoch 44/100\n",
            "20/20 [==============================] - 4s 188ms/step - loss: 0.1177 - acc: 0.9528\n",
            "Epoch 45/100\n",
            "20/20 [==============================] - 4s 186ms/step - loss: 0.5522 - acc: 0.8655\n",
            "Epoch 46/100\n",
            "20/20 [==============================] - 4s 188ms/step - loss: 0.5289 - acc: 0.8975\n",
            "Epoch 47/100\n",
            "20/20 [==============================] - 4s 191ms/step - loss: 0.4760 - acc: 0.9007\n",
            "Epoch 48/100\n",
            "20/20 [==============================] - 4s 190ms/step - loss: 0.3690 - acc: 0.8927\n",
            "Epoch 49/100\n",
            "20/20 [==============================] - 4s 188ms/step - loss: 0.0687 - acc: 0.9800\n",
            "Epoch 50/100\n",
            "20/20 [==============================] - 4s 188ms/step - loss: 0.4119 - acc: 0.8959\n",
            "Epoch 51/100\n",
            "20/20 [==============================] - 4s 189ms/step - loss: 0.3456 - acc: 0.8919\n",
            "Epoch 52/100\n",
            "20/20 [==============================] - 4s 188ms/step - loss: 0.3012 - acc: 0.9007\n",
            "Epoch 53/100\n",
            "20/20 [==============================] - 4s 191ms/step - loss: 0.5252 - acc: 0.9023\n",
            "Epoch 54/100\n",
            "20/20 [==============================] - 4s 195ms/step - loss: 0.1182 - acc: 0.9552\n",
            "Epoch 55/100\n",
            "20/20 [==============================] - 4s 192ms/step - loss: 0.3937 - acc: 0.9039\n",
            "Epoch 56/100\n",
            "20/20 [==============================] - 4s 192ms/step - loss: 0.3204 - acc: 0.9231\n",
            "Epoch 57/100\n",
            "20/20 [==============================] - 4s 192ms/step - loss: 0.4495 - acc: 0.9071\n",
            "Epoch 58/100\n",
            "20/20 [==============================] - 4s 191ms/step - loss: 0.3858 - acc: 0.9135\n",
            "Epoch 59/100\n",
            "20/20 [==============================] - 4s 191ms/step - loss: 0.0374 - acc: 0.9888\n",
            "Epoch 60/100\n",
            "20/20 [==============================] - 4s 187ms/step - loss: 0.4451 - acc: 0.9351\n",
            "Epoch 61/100\n",
            "20/20 [==============================] - 4s 189ms/step - loss: 0.3569 - acc: 0.9055\n",
            "Epoch 62/100\n",
            "20/20 [==============================] - 4s 189ms/step - loss: 0.2864 - acc: 0.9183\n",
            "Epoch 63/100\n",
            "20/20 [==============================] - 4s 188ms/step - loss: 0.4064 - acc: 0.9183\n",
            "Epoch 64/100\n",
            "20/20 [==============================] - 4s 189ms/step - loss: 0.0282 - acc: 0.9920\n",
            "Epoch 65/100\n",
            "20/20 [==============================] - 4s 189ms/step - loss: 0.4574 - acc: 0.9207\n",
            "Epoch 66/100\n",
            "20/20 [==============================] - 4s 189ms/step - loss: 0.2937 - acc: 0.9271\n",
            "Epoch 67/100\n",
            "20/20 [==============================] - 4s 189ms/step - loss: 0.3237 - acc: 0.9199\n",
            "Epoch 68/100\n",
            "20/20 [==============================] - 4s 191ms/step - loss: 0.0364 - acc: 0.9848\n",
            "Epoch 69/100\n",
            "20/20 [==============================] - 4s 189ms/step - loss: 0.4213 - acc: 0.9127\n",
            "Epoch 70/100\n",
            "20/20 [==============================] - 4s 189ms/step - loss: 0.3360 - acc: 0.9175\n",
            "Epoch 71/100\n",
            "20/20 [==============================] - 4s 187ms/step - loss: 0.0257 - acc: 0.9944\n",
            "Epoch 72/100\n",
            "20/20 [==============================] - 4s 188ms/step - loss: 0.4139 - acc: 0.9103\n",
            "Epoch 73/100\n",
            "20/20 [==============================] - 4s 189ms/step - loss: 0.2430 - acc: 0.9464\n",
            "Epoch 74/100\n",
            "20/20 [==============================] - 4s 189ms/step - loss: 0.1403 - acc: 0.9696\n",
            "Epoch 75/100\n",
            "20/20 [==============================] - 4s 189ms/step - loss: 0.3569 - acc: 0.9343\n",
            "Epoch 76/100\n",
            "20/20 [==============================] - 4s 188ms/step - loss: 0.0855 - acc: 0.9736\n",
            "Epoch 77/100\n",
            "20/20 [==============================] - 4s 189ms/step - loss: 0.3956 - acc: 0.9247\n",
            "Epoch 78/100\n",
            "20/20 [==============================] - 4s 191ms/step - loss: 0.0279 - acc: 0.9936\n",
            "Epoch 79/100\n",
            "20/20 [==============================] - 4s 189ms/step - loss: 0.3135 - acc: 0.9351\n",
            "Epoch 80/100\n",
            "20/20 [==============================] - 4s 190ms/step - loss: 0.0284 - acc: 0.9920\n",
            "Epoch 81/100\n",
            "20/20 [==============================] - 4s 190ms/step - loss: 0.4699 - acc: 0.9111\n",
            "Epoch 82/100\n",
            "20/20 [==============================] - 4s 189ms/step - loss: 0.0218 - acc: 0.9952\n",
            "Epoch 83/100\n",
            "20/20 [==============================] - 4s 188ms/step - loss: 0.3088 - acc: 0.9223\n",
            "Epoch 84/100\n",
            "20/20 [==============================] - 4s 189ms/step - loss: 0.0186 - acc: 0.9936\n",
            "Epoch 85/100\n",
            "20/20 [==============================] - 4s 189ms/step - loss: 0.4225 - acc: 0.9319\n",
            "Epoch 86/100\n",
            "20/20 [==============================] - 4s 190ms/step - loss: 0.3167 - acc: 0.9576\n",
            "Epoch 87/100\n",
            "20/20 [==============================] - 4s 190ms/step - loss: 0.0236 - acc: 0.9920\n",
            "Epoch 88/100\n",
            "20/20 [==============================] - 4s 192ms/step - loss: 0.2213 - acc: 0.9488\n",
            "Epoch 89/100\n",
            "20/20 [==============================] - 4s 187ms/step - loss: 0.0344 - acc: 0.9888\n",
            "Epoch 90/100\n",
            "20/20 [==============================] - 4s 189ms/step - loss: 0.3732 - acc: 0.9343\n",
            "Epoch 91/100\n",
            "20/20 [==============================] - 4s 193ms/step - loss: 0.0307 - acc: 0.9880\n",
            "Epoch 92/100\n",
            "20/20 [==============================] - 4s 190ms/step - loss: 0.3971 - acc: 0.9440\n",
            "Epoch 93/100\n",
            "20/20 [==============================] - 4s 190ms/step - loss: 0.0224 - acc: 0.9920\n",
            "Epoch 94/100\n",
            "20/20 [==============================] - 4s 189ms/step - loss: 0.3265 - acc: 0.9400\n",
            "Epoch 95/100\n",
            "20/20 [==============================] - 4s 189ms/step - loss: 0.0216 - acc: 0.9944\n",
            "Epoch 96/100\n",
            "20/20 [==============================] - 4s 192ms/step - loss: 0.2839 - acc: 0.9496\n",
            "Epoch 97/100\n",
            "20/20 [==============================] - 4s 190ms/step - loss: 0.0180 - acc: 0.9976\n",
            "Epoch 98/100\n",
            "20/20 [==============================] - 4s 191ms/step - loss: 0.0192 - acc: 0.9944\n",
            "Epoch 99/100\n",
            "20/20 [==============================] - 4s 190ms/step - loss: 0.3527 - acc: 0.9488\n",
            "Epoch 100/100\n",
            "20/20 [==============================] - 4s 191ms/step - loss: 0.0081 - acc: 0.9992\n",
            "Time:  0:06:22.871390\n"
          ],
          "name": "stdout"
        }
      ]
    },
    {
      "cell_type": "markdown",
      "metadata": {
        "id": "SEzNDGhuoH0P"
      },
      "source": [
        "# **Training Accuracy and Test Accuracy**"
      ]
    },
    {
      "cell_type": "code",
      "metadata": {
        "colab": {
          "base_uri": "https://localhost:8080/"
        },
        "id": "58inp1a-oGrT",
        "outputId": "b0cb8282-8e6e-4759-ab88-e059bb27a0f6"
      },
      "source": [
        "from sklearn.metrics import accuracy_score\n",
        "train_pred = (model.predict(train_data) > 0.5).astype(\"int32\")\n",
        "#train_pred = to_categorical(train_pred, num_classes, dtype='float32')\n",
        "train_acc = accuracy_score(train_labels, train_pred)\n",
        "\n",
        "test_pred = train_pred = (model.predict(test_data) > 0.5).astype(\"int32\")\n",
        "#test_pred = to_categorical(test_pred, num_classes, dtype= 'float32')\n",
        "test_acc = accuracy_score(test_labels, test_pred )\n",
        "\n",
        "validation_pred = train_pred = (model.predict(validation_data) > 0.5).astype(\"int32\")\n",
        "#validation_pred = to_categorical(validation_pred, num_classes, dtype='float32')\n",
        "validation_acc = accuracy_score(validation_labels, validation_pred)\n",
        "\n",
        "print(\"Train Accuracy: \" , train_acc*100, \"%\")\n",
        "print(\"Test Accuracy: \" , test_acc*100, \"%\")\n",
        "print(\"Validation Accuracy: \" , validation_acc*100, \"%\")"
      ],
      "execution_count": 74,
      "outputs": [
        {
          "output_type": "stream",
          "text": [
            "Train Accuracy:  100.0 %\n",
            "Test Accuracy:  91.97431781701445 %\n",
            "Validation Accuracy:  57.14285714285714 %\n"
          ],
          "name": "stdout"
        }
      ]
    },
    {
      "cell_type": "markdown",
      "metadata": {
        "id": "zWkEmK9ydZyc"
      },
      "source": [
        "# **Confusion Matrix**"
      ]
    },
    {
      "cell_type": "code",
      "metadata": {
        "colab": {
          "base_uri": "https://localhost:8080/"
        },
        "id": "roVORI2SdYPn",
        "outputId": "9dde7e7e-8fbf-4fe0-d40c-094d2b045bd7"
      },
      "source": [
        "\n",
        "print(metrics.confusion_matrix(test_labels, test_pred))\n"
      ],
      "execution_count": 76,
      "outputs": [
        {
          "output_type": "stream",
          "text": [
            "[[255  50]\n",
            " [  0 318]]\n"
          ],
          "name": "stdout"
        }
      ]
    },
    {
      "cell_type": "markdown",
      "metadata": {
        "id": "1u_hdKtQiUfe"
      },
      "source": [
        "# **Save Model**"
      ]
    },
    {
      "cell_type": "code",
      "metadata": {
        "colab": {
          "base_uri": "https://localhost:8080/"
        },
        "id": "OKD_R2qCiI48",
        "outputId": "36bd6842-4364-47d1-b6ba-2bf1bebb3edc"
      },
      "source": [
        "# Save the Modle to file in the current working directory\n",
        "# serialize model to JSON\n",
        "model_json = model.to_json()\n",
        "with open(\"/content/drive/MyDrive/Thesis work/VGG16model.json\", \"w\") as json_file:\n",
        "    json_file.write(model_json)\n",
        "# serialize weights to HDF5\n",
        "model.save_weights(\"/content/drive/MyDrive/Thesis work/VGG16model.h5\")\n",
        "print(\"Saved model to disk\")"
      ],
      "execution_count": 48,
      "outputs": [
        {
          "output_type": "stream",
          "text": [
            "Saved model to disk\n"
          ],
          "name": "stdout"
        }
      ]
    },
    {
      "cell_type": "markdown",
      "metadata": {
        "id": "-B64jVPglDg7"
      },
      "source": [
        "# **Load Model**"
      ]
    },
    {
      "cell_type": "code",
      "metadata": {
        "colab": {
          "base_uri": "https://localhost:8080/"
        },
        "id": "83Xp0A76iTkG",
        "outputId": "0d3eb4c1-6846-416e-89e9-2188304610e2"
      },
      "source": [
        "# Load the Model back from file\n",
        "from keras.models import model_from_json\n",
        "json_file = open('/content/drive/MyDrive/Thesis work/VGG16model.json', 'r')\n",
        "loaded_model_json = json_file.read()\n",
        "json_file.close()\n",
        "loaded_model = model_from_json(loaded_model_json)\n",
        "# load weights into new model\n",
        "loaded_model.load_weights(\"/content/drive/MyDrive/Thesis work/VGG16model.h5\")\n",
        "print(\"Loaded model from disk\")"
      ],
      "execution_count": 49,
      "outputs": [
        {
          "output_type": "stream",
          "text": [
            "Loaded model from disk\n"
          ],
          "name": "stdout"
        }
      ]
    },
    {
      "cell_type": "markdown",
      "metadata": {
        "id": "GkAZ_3Af-wRy"
      },
      "source": [
        "## **Evaluate model on test data**"
      ]
    },
    {
      "cell_type": "code",
      "metadata": {
        "colab": {
          "base_uri": "https://localhost:8080/"
        },
        "id": "rqrxz_rT8867",
        "outputId": "f1ebc15d-9d52-450b-d230-bff266340b90"
      },
      "source": [
        "# evaluate loaded model on test data\n",
        "\n",
        "loaded_model.compile(loss='binary_crossentropy', optimizer='rmsprop', metrics=['accuracy'])\n",
        "prediction = loaded_model.predict_classes(test_data)\n",
        "prediction = to_categorical(prediction)\n",
        "accuracy_score = accuracy_score(test_labels, prediction)\n",
        "print(\"Accuracy score: %.2f %\", accuracy_score)\n",
        "#score = loaded_model.evaluate(validation_data, validation_labels, verbose=0)\n"
      ],
      "execution_count": 51,
      "outputs": [
        {
          "output_type": "stream",
          "text": [
            "/usr/local/lib/python3.7/dist-packages/keras/engine/sequential.py:450: UserWarning: `model.predict_classes()` is deprecated and will be removed after 2021-01-01. Please use instead:* `np.argmax(model.predict(x), axis=-1)`,   if your model does multi-class classification   (e.g. if it uses a `softmax` last-layer activation).* `(model.predict(x) > 0.5).astype(\"int32\")`,   if your model does binary classification   (e.g. if it uses a `sigmoid` last-layer activation).\n",
            "  warnings.warn('`model.predict_classes()` is deprecated and '\n"
          ],
          "name": "stderr"
        },
        {
          "output_type": "stream",
          "text": [
            "Accuracy score: %.2f % 0.8828250401284109\n"
          ],
          "name": "stdout"
        }
      ]
    },
    {
      "cell_type": "markdown",
      "metadata": {
        "id": "bVSekf28qroS"
      },
      "source": [
        "Code for visualization of the Accuracy and Loss:"
      ]
    },
    {
      "cell_type": "code",
      "metadata": {
        "colab": {
          "base_uri": "https://localhost:8080/",
          "height": 231
        },
        "id": "M1bY9P_Moh8U",
        "outputId": "20bddc4d-3ea2-400e-c9a2-099391a49dc0"
      },
      "source": [
        "#Graphing our training and validation\n",
        "acc = history.history['acc']\n",
        "val_acc = history.history['val_acc']\n",
        "loss = history.history['loss']\n",
        "val_loss = history.history['val_loss']\n",
        "epochs = range(len(acc))\n",
        "plt.plot(epochs, acc, 'r', label='Training acc')\n",
        "plt.plot(epochs, val_acc, 'b', label='Validation acc')\n",
        "plt.title('Training and validation accuracy')\n",
        "plt.ylabel('accuracy') \n",
        "plt.xlabel('epoch')\n",
        "plt.legend()\n",
        "plt.figure()\n",
        "plt.plot(epochs, loss, 'r', label='Training loss')\n",
        "plt.plot(epochs, val_loss, 'b', label='Validation loss')\n",
        "plt.title('Training and validation loss')\n",
        "plt.ylabel('loss') \n",
        "plt.xlabel('epoch')\n",
        "plt.legend()\n",
        "plt.show()"
      ],
      "execution_count": 52,
      "outputs": [
        {
          "output_type": "error",
          "ename": "KeyError",
          "evalue": "ignored",
          "traceback": [
            "\u001b[0;31m---------------------------------------------------------------------------\u001b[0m",
            "\u001b[0;31mKeyError\u001b[0m                                  Traceback (most recent call last)",
            "\u001b[0;32m<ipython-input-52-4d0c5d58be10>\u001b[0m in \u001b[0;36m<module>\u001b[0;34m()\u001b[0m\n\u001b[1;32m      1\u001b[0m \u001b[0;31m#Graphing our training and validation\u001b[0m\u001b[0;34m\u001b[0m\u001b[0;34m\u001b[0m\u001b[0;34m\u001b[0m\u001b[0m\n\u001b[1;32m      2\u001b[0m \u001b[0macc\u001b[0m \u001b[0;34m=\u001b[0m \u001b[0mhistory\u001b[0m\u001b[0;34m.\u001b[0m\u001b[0mhistory\u001b[0m\u001b[0;34m[\u001b[0m\u001b[0;34m'acc'\u001b[0m\u001b[0;34m]\u001b[0m\u001b[0;34m\u001b[0m\u001b[0;34m\u001b[0m\u001b[0m\n\u001b[0;32m----> 3\u001b[0;31m \u001b[0mval_acc\u001b[0m \u001b[0;34m=\u001b[0m \u001b[0mhistory\u001b[0m\u001b[0;34m.\u001b[0m\u001b[0mhistory\u001b[0m\u001b[0;34m[\u001b[0m\u001b[0;34m'val_acc'\u001b[0m\u001b[0;34m]\u001b[0m\u001b[0;34m\u001b[0m\u001b[0;34m\u001b[0m\u001b[0m\n\u001b[0m\u001b[1;32m      4\u001b[0m \u001b[0mloss\u001b[0m \u001b[0;34m=\u001b[0m \u001b[0mhistory\u001b[0m\u001b[0;34m.\u001b[0m\u001b[0mhistory\u001b[0m\u001b[0;34m[\u001b[0m\u001b[0;34m'loss'\u001b[0m\u001b[0;34m]\u001b[0m\u001b[0;34m\u001b[0m\u001b[0;34m\u001b[0m\u001b[0m\n\u001b[1;32m      5\u001b[0m \u001b[0mval_loss\u001b[0m \u001b[0;34m=\u001b[0m \u001b[0mhistory\u001b[0m\u001b[0;34m.\u001b[0m\u001b[0mhistory\u001b[0m\u001b[0;34m[\u001b[0m\u001b[0;34m'val_loss'\u001b[0m\u001b[0;34m]\u001b[0m\u001b[0;34m\u001b[0m\u001b[0;34m\u001b[0m\u001b[0m\n",
            "\u001b[0;31mKeyError\u001b[0m: 'val_acc'"
          ]
        }
      ]
    },
    {
      "cell_type": "markdown",
      "metadata": {
        "id": "rP5kg5H8uGxp"
      },
      "source": [
        "# **ROC AUC**"
      ]
    },
    {
      "cell_type": "code",
      "metadata": {
        "colab": {
          "base_uri": "https://localhost:8080/"
        },
        "id": "61ISNfbnJ-OM",
        "outputId": "50d8b9d3-6e3d-45e0-fa47-c4b57c5a6716"
      },
      "source": [
        "from sklearn.metrics import roc_curve\n",
        "from sklearn.metrics import roc_auc_score\n",
        "# generate a no skill prediction (majority class)\n",
        "y_score1 = model.predict_proba(test_data)\n",
        "false_positive_rate1, true_positive_rate1, threshold1 = roc_curve(test_labels, y_score1)\n",
        "print('roc_auc_score for VGG16: ', roc_auc_score(test_labels, y_score1))"
      ],
      "execution_count": 81,
      "outputs": [
        {
          "output_type": "stream",
          "text": [
            "/usr/local/lib/python3.7/dist-packages/tensorflow/python/keras/engine/sequential.py:430: UserWarning: `model.predict_proba()` is deprecated and will be removed after 2021-01-01. Please use `model.predict()` instead.\n",
            "  warnings.warn('`model.predict_proba()` is deprecated and '\n"
          ],
          "name": "stderr"
        },
        {
          "output_type": "stream",
          "text": [
            "roc_auc_score for VGG16:  0.9905351067120323\n"
          ],
          "name": "stdout"
        }
      ]
    },
    {
      "cell_type": "code",
      "metadata": {
        "colab": {
          "base_uri": "https://localhost:8080/",
          "height": 638
        },
        "id": "Aaa0x3_MuMs_",
        "outputId": "8d2703b1-2cfe-42cc-eb28-91ad849cd293"
      },
      "source": [
        "#Plot ROC AUC curve\n",
        "plt.subplots(1, figsize=(10,10))\n",
        "plt.title('Receiver Operating Characteristic - VGG16')\n",
        "plt.plot(false_positive_rate1, true_positive_rate1)\n",
        "plt.plot([0, 1], ls=\"--\")\n",
        "plt.plot([0, 0], [1, 0] , c=\".7\"), plt.plot([1, 1] , c=\".7\")\n",
        "plt.ylabel('True Positive Rate')\n",
        "plt.xlabel('False Positive Rate')\n",
        "plt.legend()\n",
        "plt.show()\n",
        "\n"
      ],
      "execution_count": 85,
      "outputs": [
        {
          "output_type": "stream",
          "text": [
            "No handles with labels found to put in legend.\n"
          ],
          "name": "stderr"
        },
        {
          "output_type": "display_data",
          "data": {
            "image/png": "[encoded data removed]",
            "text/plain": [
              "<Figure size 720x720 with 1 Axes>"
            ]
          },
          "metadata": {
            "tags": [],
            "needs_background": "light"
          }
        }
      ]
    },
    {
      "cell_type": "markdown",
      "metadata": {
        "id": "qdylweKdxjL1"
      },
      "source": [
        "# **Plot ROC- AUC curve**"
      ]
    },
    {
      "cell_type": "code",
      "metadata": {
        "colab": {
          "base_uri": "https://localhost:8080/",
          "height": 476
        },
        "id": "ef9uqqXh8uce",
        "outputId": "9128c248-c4db-4800-8d96-16014661082f"
      },
      "source": [
        "\n",
        "ns_probs = [0 for _ in range(len(test_labels))]\n",
        "\n",
        "# predict probabilities\n",
        "lr_probs = model.predict_proba(test_data)\n",
        "# keep probabilities for the positive outcome only\n",
        "#lr_probs = lr_probs[:, 0]\n",
        "# calculate scores\n",
        "ns_auc = roc_auc_score(test_labels, ns_probs)\n",
        "lr_auc = roc_auc_score(test_labels, lr_probs)\n",
        "# summarize scores\n",
        "print('No Skill: ROC AUC=%.3f' % (ns_auc))\n",
        "print('VGG16: ROC AUC=%.3f' % (lr_auc))\n",
        "# calculate roc curves\n",
        "ns_fpr, ns_tpr, _ = roc_curve(test_labels, ns_probs)\n",
        "lr_fpr, lr_tpr, _ = roc_curve(test_labels, lr_probs)\n",
        "# plot the roc curve for the model\n",
        "plt.subplots(1, figsize=(10,6))\n",
        "plt.plot(ns_fpr, ns_tpr, linestyle='--', label='No Skill')\n",
        "plt.plot(lr_fpr, lr_tpr, marker='.', label='VGG16')\n",
        "# axis labels\n",
        "plt.xlabel('False Positive Rate')\n",
        "plt.ylabel('True Positive Rate')\n",
        "# show the legend\n",
        "plt.legend()\n",
        "# show the plot\n",
        "plt.show()"
      ],
      "execution_count": 109,
      "outputs": [
        {
          "output_type": "stream",
          "text": [
            "/usr/local/lib/python3.7/dist-packages/tensorflow/python/keras/engine/sequential.py:430: UserWarning: `model.predict_proba()` is deprecated and will be removed after 2021-01-01. Please use `model.predict()` instead.\n",
            "  warnings.warn('`model.predict_proba()` is deprecated and '\n"
          ],
          "name": "stderr"
        },
        {
          "output_type": "stream",
          "text": [
            "No Skill: ROC AUC=0.500\n",
            "VGG16: ROC AUC=0.991\n"
          ],
          "name": "stdout"
        },
        {
          "output_type": "display_data",
          "data": {
            "image/png": "[encoded data removed]",
            "text/plain": [
              "<Figure size 720x432 with 1 Axes>"
            ]
          },
          "metadata": {
            "tags": [],
            "needs_background": "light"
          }
        }
      ]
    }
  ]
}