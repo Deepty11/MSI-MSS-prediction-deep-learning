{
  "nbformat": 4,
  "nbformat_minor": 0,
  "metadata": {
    "colab": {
      "name": "VGG19onMSIvsMSS.ipynb",
      "provenance": [],
      "toc_visible": true,
      "authorship_tag": "ABX9TyPZTTpWyXAdoqwdY3N/goLH",
      "include_colab_link": true
    },
    "kernelspec": {
      "display_name": "Python 3",
      "name": "python3"
    },
    "language_info": {
      "name": "python"
    }
  },
  "cells": [
    {
      "cell_type": "markdown",
      "metadata": {
        "id": "view-in-github",
        "colab_type": "text"
      },
      "source": [
        "<a href=\"https://colab.research.google.com/github/Deepty11/MSI-MSS-prediction-deep-learning/blob/main/VGG19Model.ipynb\" target=\"_parent\"><img src=\"https://colab.research.google.com/assets/colab-badge.svg\" alt=\"Open In Colab\"/></a>"
      ]
    },
    {
      "cell_type": "code",
      "metadata": {
        "id": "pNBAPRWZqdXL"
      },
      "source": [
        "!pip install keras==2.3.0"
      ],
      "execution_count": null,
      "outputs": []
    },
    {
      "cell_type": "code",
      "metadata": {
        "colab": {
          "base_uri": "https://localhost:8080/"
        },
        "id": "wpQmrphVXr-P",
        "outputId": "27ca7696-2bfa-4e82-ffb6-1a78334882b8"
      },
      "source": [
        "from google.colab import drive\n",
        "drive.mount('/content/drive')"
      ],
      "execution_count": 1,
      "outputs": [
        {
          "output_type": "stream",
          "text": [
            "Mounted at /content/drive\n"
          ],
          "name": "stdout"
        }
      ]
    },
    {
      "cell_type": "code",
      "metadata": {
        "id": "bL2eDlncYaX3"
      },
      "source": [
        "import pandas as pd\n",
        "import numpy as np \n",
        "import itertools\n",
        "import tensorflow as tf\n",
        "from tensorflow import keras\n",
        "\n",
        "from sklearn import metrics\n",
        "from sklearn.metrics import confusion_matrix\n",
        "from tensorflow.keras.preprocessing import image\n",
        "from tensorflow.keras.preprocessing.image import ImageDataGenerator, img_to_array, load_img \n",
        "from tensorflow.keras.models import Sequential \n",
        "from tensorflow.keras import optimizers\n",
        "from tensorflow.keras.preprocessing import image\n",
        "from tensorflow.keras.layers import Dropout, Flatten, Dense \n",
        "from tensorflow.keras import applications \n",
        "from keras.utils.np_utils import to_categorical \n",
        "from tensorflow.keras.applications.vgg19 import VGG19\n",
        "import matplotlib.pyplot as plt \n",
        "import matplotlib.image as mpimg\n",
        "%matplotlib inline\n",
        "import math \n",
        "import datetime\n",
        "import time"
      ],
      "execution_count": 4,
      "outputs": []
    },
    {
      "cell_type": "code",
      "metadata": {
        "id": "DsrVBnfsYgCA"
      },
      "source": [
        "#Default dimensions we found online\n",
        "img_width, img_height = 224, 224 \n",
        " \n",
        "#Create a bottleneck file\n",
        "top_model_weights_path = 'bottleneck_fc_model.h5'\n",
        "# loading up our datasets\n",
        "train_data_dir = '/content/drive/MyDrive/Thesis work/augmented/train'\n",
        "validation_data_dir = '/content/drive/MyDrive/Thesis work/augmented/val ' \n",
        "test_data_dir = '/content/drive/MyDrive/Thesis work/augmented/test'\n",
        "#test_data_dir = ‘data/test’\n",
        " \n",
        "# number of epochs to train top model \n",
        "#epochs = 50 #this has been changed after multiple model run \n",
        "# batch size used by flow_from_directory and predict_generator \n",
        "batch_size = 40 "
      ],
      "execution_count": 16,
      "outputs": []
    },
    {
      "cell_type": "code",
      "metadata": {
        "id": "vYe8FKA_Y4M5"
      },
      "source": [
        "#Loading vgc16 model\n",
        "\n",
        "vgg19 = VGG19(include_top=False, weights='imagenet')\n",
        "datagen = ImageDataGenerator(rescale=1. / 255) \n",
        "#needed to create the bottleneck .npy files"
      ],
      "execution_count": 17,
      "outputs": []
    },
    {
      "cell_type": "markdown",
      "metadata": {
        "id": "YHtQbkzvx50U"
      },
      "source": [
        "# Bottleneck data for train data"
      ]
    },
    {
      "cell_type": "markdown",
      "metadata": {
        "id": "RulYmjy7ZdwI"
      },
      "source": [
        "Creation of the weights and feature using VGG16:\n"
      ]
    },
    {
      "cell_type": "code",
      "metadata": {
        "colab": {
          "base_uri": "https://localhost:8080/"
        },
        "id": "RgnXTAfgZBkQ",
        "outputId": "42b05a4c-cd4f-4e17-b80d-59bdfe3773fa"
      },
      "source": [
        "#__this can take an hour and half to run so only run it once. \n",
        "#once the npy files have been created, no need to run again. Convert this cell to a code cell to run.__\n",
        "start = datetime.datetime.now()\n",
        " \n",
        "generator = datagen.flow_from_directory( \n",
        "    train_data_dir, \n",
        "    target_size=(img_width, img_height), \n",
        "    batch_size=batch_size, \n",
        "    class_mode=None, \n",
        "    shuffle=False) \n",
        " \n",
        "nb_train_samples = len(generator.filenames) \n",
        "num_classes = len(generator.class_indices) \n",
        " \n",
        "predict_size_train = int(math.ceil(nb_train_samples / batch_size)) \n",
        " \n",
        "bottleneck_features_train = vgg19.predict_generator(generator, predict_size_train) \n",
        " \n",
        "np.save('/content/drive/MyDrive/Thesis work/bottleneck_features_train_vgg19.npy', bottleneck_features_train)\n",
        "end= datetime.datetime.now()\n",
        "elapsed= end-start\n",
        "print ('Time: ', elapsed)"
      ],
      "execution_count": 18,
      "outputs": [
        {
          "output_type": "stream",
          "text": [
            "Found 1249 images belonging to 2 classes.\n"
          ],
          "name": "stdout"
        },
        {
          "output_type": "stream",
          "text": [
            "/usr/local/lib/python3.7/dist-packages/tensorflow/python/keras/engine/training.py:2001: UserWarning: `Model.predict_generator` is deprecated and will be removed in a future version. Please use `Model.predict`, which supports generators.\n",
            "  warnings.warn('`Model.predict_generator` is deprecated and '\n"
          ],
          "name": "stderr"
        },
        {
          "output_type": "stream",
          "text": [
            "Time:  0:12:53.965087\n"
          ],
          "name": "stdout"
        }
      ]
    },
    {
      "cell_type": "markdown",
      "metadata": {
        "id": "mfqaO67KhRFL"
      },
      "source": [
        "Creating a bottleneck file for the training data. (Same step for validation and testing):"
      ]
    },
    {
      "cell_type": "code",
      "metadata": {
        "colab": {
          "base_uri": "https://localhost:8080/"
        },
        "id": "fdED6RZThM_e",
        "outputId": "72475317-6311-4041-a50f-a6ff7914504e"
      },
      "source": [
        "#training data\n",
        "generator_top = datagen.flow_from_directory( \n",
        "   train_data_dir, \n",
        "   target_size=(img_width, img_height), \n",
        "   batch_size=batch_size, \n",
        "   class_mode= None, \n",
        "   shuffle=False) \n",
        " \n",
        "nb_train_samples = len(generator_top.filenames) \n",
        "num_classes = len(generator_top.class_indices) \n",
        " \n",
        "# load the bottleneck features saved earlier \n",
        "train_data = np.load('/content/drive/MyDrive/Thesis work/bottleneck_features_train_vgg19.npy') \n",
        " \n",
        "# get the class labels for the training data, in the original order \n",
        "train_labels = generator_top.classes \n",
        " \n",
        "# convert the training labels to categorical vectors \n",
        "#train_labels = to_categorical(train_labels, num_classes=num_classes)\n",
        "train_labels"
      ],
      "execution_count": 19,
      "outputs": [
        {
          "output_type": "stream",
          "text": [
            "Found 1249 images belonging to 2 classes.\n"
          ],
          "name": "stdout"
        },
        {
          "output_type": "execute_result",
          "data": {
            "text/plain": [
              "array([0, 0, 0, ..., 1, 1, 1], dtype=int32)"
            ]
          },
          "metadata": {
            "tags": []
          },
          "execution_count": 19
        }
      ]
    },
    {
      "cell_type": "markdown",
      "metadata": {
        "id": "iVXFOfQ5x-Pp"
      },
      "source": [
        "# Bottleneck data for validation data"
      ]
    },
    {
      "cell_type": "code",
      "metadata": {
        "colab": {
          "base_uri": "https://localhost:8080/"
        },
        "id": "WXP115RpiOox",
        "outputId": "dbf9b057-412e-4fb2-a16d-29e16b2453d3"
      },
      "source": [
        "#__this can take an hour and half to run so only run it once. \n",
        "#once the npy files have been created, no need to run again. Convert this cell to a code cell to run.__\n",
        "start = datetime.datetime.now()\n",
        " \n",
        "generator = datagen.flow_from_directory( \n",
        "    validation_data_dir, \n",
        "    target_size=(img_width, img_height), \n",
        "    batch_size=batch_size, \n",
        "    class_mode=None, \n",
        "    shuffle=False) \n",
        " \n",
        "nb_validation_samples = len(generator.filenames) \n",
        "num_classes = len(generator.class_indices) \n",
        " \n",
        "predict_size_validation = int(math.ceil(nb_validation_samples / batch_size)) \n",
        " \n",
        "bottleneck_features_validation = vgg19.predict_generator(generator, predict_size_validation) \n",
        " \n",
        "np.save('/content/drive/MyDrive/Thesis work/bottleneck_features_validation_vgg19.npy', bottleneck_features_validation)\n",
        "end= datetime.datetime.now()\n",
        "elapsed= end-start\n",
        "print ('Time: ', elapsed)"
      ],
      "execution_count": 20,
      "outputs": [
        {
          "output_type": "stream",
          "text": [
            "Found 630 images belonging to 2 classes.\n"
          ],
          "name": "stdout"
        },
        {
          "output_type": "stream",
          "text": [
            "/usr/local/lib/python3.7/dist-packages/tensorflow/python/keras/engine/training.py:2001: UserWarning: `Model.predict_generator` is deprecated and will be removed in a future version. Please use `Model.predict`, which supports generators.\n",
            "  warnings.warn('`Model.predict_generator` is deprecated and '\n"
          ],
          "name": "stderr"
        },
        {
          "output_type": "stream",
          "text": [
            "Time:  0:07:22.510202\n"
          ],
          "name": "stdout"
        }
      ]
    },
    {
      "cell_type": "code",
      "metadata": {
        "colab": {
          "base_uri": "https://localhost:8080/"
        },
        "id": "dQ3Xz4U4hfnK",
        "outputId": "9417bb67-16c4-49fa-fe4c-e0ce80925e37"
      },
      "source": [
        "#validation data\n",
        "generator_top = datagen.flow_from_directory( \n",
        "   validation_data_dir, \n",
        "   target_size=(img_width, img_height), \n",
        "   batch_size=batch_size, \n",
        "   class_mode= None, \n",
        "   shuffle=False) \n",
        " \n",
        "nb_validation_samples = len(generator_top.filenames) \n",
        "num_classes = len(generator_top.class_indices) \n",
        " \n",
        "# load the bottleneck features saved earlier \n",
        "validation_data = np.load('/content/drive/MyDrive/Thesis work/bottleneck_features_validation_vgg19.npy') \n",
        " \n",
        "# get the class labels for the training data, in the original order \n",
        "validation_labels = generator_top.classes \n",
        " \n",
        "# convert the training labels to categorical vectors \n",
        "#validation_labels = to_categorical(validation_labels, num_classes=num_classes)"
      ],
      "execution_count": 21,
      "outputs": [
        {
          "output_type": "stream",
          "text": [
            "Found 630 images belonging to 2 classes.\n"
          ],
          "name": "stdout"
        }
      ]
    },
    {
      "cell_type": "markdown",
      "metadata": {
        "id": "rWuHYErOyCkt"
      },
      "source": [
        "# Bottleneck data for test data"
      ]
    },
    {
      "cell_type": "code",
      "metadata": {
        "colab": {
          "base_uri": "https://localhost:8080/"
        },
        "id": "hf7UiVqc_vlx",
        "outputId": "a709c048-bd07-4301-c029-55f7510a9f4f"
      },
      "source": [
        "#__this can take an hour and half to run so only run it once. \n",
        "#once the npy files have been created, no need to run again. Convert this cell to a code cell to run.__\n",
        "start = datetime.datetime.now()\n",
        " \n",
        "generator = datagen.flow_from_directory( \n",
        "    test_data_dir, \n",
        "    target_size=(img_width, img_height), \n",
        "    batch_size=batch_size, \n",
        "    class_mode= None, \n",
        "    shuffle=False) \n",
        " \n",
        "nb_validation_samples = len(generator.filenames) \n",
        "num_classes = len(generator.class_indices) \n",
        " \n",
        "predict_size_validation = int(math.ceil(nb_validation_samples / batch_size)) \n",
        " \n",
        "bottleneck_features_validation = vgg19.predict_generator(generator, predict_size_validation) \n",
        " \n",
        "np.save('/content/drive/MyDrive/Thesis work/bottleneck_features_test_vgg19.npy', bottleneck_features_validation)\n",
        "end= datetime.datetime.now()\n",
        "elapsed= end-start\n",
        "print ('Time: ', elapsed)"
      ],
      "execution_count": 22,
      "outputs": [
        {
          "output_type": "stream",
          "text": [
            "Found 623 images belonging to 2 classes.\n"
          ],
          "name": "stdout"
        },
        {
          "output_type": "stream",
          "text": [
            "/usr/local/lib/python3.7/dist-packages/tensorflow/python/keras/engine/training.py:2001: UserWarning: `Model.predict_generator` is deprecated and will be removed in a future version. Please use `Model.predict`, which supports generators.\n",
            "  warnings.warn('`Model.predict_generator` is deprecated and '\n"
          ],
          "name": "stderr"
        },
        {
          "output_type": "stream",
          "text": [
            "Time:  0:06:31.399664\n"
          ],
          "name": "stdout"
        }
      ]
    },
    {
      "cell_type": "code",
      "metadata": {
        "colab": {
          "base_uri": "https://localhost:8080/"
        },
        "id": "KQyqA5Kj_vJh",
        "outputId": "22ab5dc6-606d-4f77-da95-aa8789ed4837"
      },
      "source": [
        "#test data\n",
        "\n",
        "generator_top = datagen.flow_from_directory( \n",
        "   test_data_dir, \n",
        "   target_size=(img_width, img_height), \n",
        "   batch_size=batch_size, \n",
        "   class_mode= None, \n",
        "   shuffle=False) \n",
        " \n",
        "nb_test_samples = len(generator_top.filenames) \n",
        "num_classes = len(generator_top.class_indices) \n",
        " \n",
        "# load the bottleneck features saved earlier \n",
        "test_data = np.load('/content/drive/MyDrive/Thesis work/bottleneck_features_test_vgg19.npy') \n",
        " \n",
        "# get the class labels for the training data, in the original order \n",
        "test_labels = generator_top.classes \n",
        " \n",
        "# convert the training labels to categorical vectors \n",
        "#test_labels = to_categorical(test_labels, num_classes=num_classes)"
      ],
      "execution_count": 23,
      "outputs": [
        {
          "output_type": "stream",
          "text": [
            "Found 623 images belonging to 2 classes.\n"
          ],
          "name": "stdout"
        }
      ]
    },
    {
      "cell_type": "markdown",
      "metadata": {
        "id": "eZy1geSHyHWM"
      },
      "source": [
        "# Compile and Fit model"
      ]
    },
    {
      "cell_type": "code",
      "metadata": {
        "colab": {
          "base_uri": "https://localhost:8080/"
        },
        "id": "OdvUOiDhm3Av",
        "outputId": "160c80c4-abf1-4059-e570-c393837fcf2d"
      },
      "source": [
        "#This is the best model we found. For additional models, check out I_notebook.ipynb\n",
        "start = datetime.datetime.now()\n",
        "model = Sequential() \n",
        "model.add(Flatten(input_shape=train_data.shape[1:])) \n",
        "model.add(Dense(100, activation=keras.layers.LeakyReLU(alpha=0.3))) \n",
        "model.add(Dropout(0.8)) \n",
        "# model.add(Dense(100, activation=keras.layers.LeakyReLU(alpha=0.3))) \n",
        "# model.add(Dropout(0.5)) \n",
        "model.add(Dense(1, activation='sigmoid'))\n",
        "model.compile(loss='binary_crossentropy',\n",
        "   optimizer=optimizers.RMSprop(learning_rate=1e-4),\n",
        "   metrics=['acc'])\n",
        "\n",
        "history = model.fit(train_data, train_labels, \n",
        "   epochs=100,\n",
        "   batch_size=64)\n",
        "\n",
        "model.save_weights(top_model_weights_path)\n",
        "\n",
        "\n",
        "end= datetime.datetime.now()\n",
        "elapsed= end-start\n",
        "print (\"Time: \", elapsed)"
      ],
      "execution_count": 24,
      "outputs": [
        {
          "output_type": "stream",
          "text": [
            "Epoch 1/100\n",
            "20/20 [==============================] - 2s 47ms/step - loss: 1.0248 - acc: 0.5460\n",
            "Epoch 2/100\n",
            "20/20 [==============================] - 1s 50ms/step - loss: 0.7957 - acc: 0.5452\n",
            "Epoch 3/100\n",
            "20/20 [==============================] - 1s 53ms/step - loss: 0.7076 - acc: 0.6069\n",
            "Epoch 4/100\n",
            "20/20 [==============================] - 1s 63ms/step - loss: 0.7658 - acc: 0.5837\n",
            "Epoch 5/100\n",
            "20/20 [==============================] - 1s 62ms/step - loss: 0.7271 - acc: 0.6213\n",
            "Epoch 6/100\n",
            "20/20 [==============================] - 1s 46ms/step - loss: 0.6103 - acc: 0.6781\n",
            "Epoch 7/100\n",
            "20/20 [==============================] - 1s 48ms/step - loss: 0.5953 - acc: 0.6837\n",
            "Epoch 8/100\n",
            "20/20 [==============================] - 1s 50ms/step - loss: 0.6922 - acc: 0.6509\n",
            "Epoch 9/100\n",
            "20/20 [==============================] - 1s 45ms/step - loss: 0.6053 - acc: 0.6910\n",
            "Epoch 10/100\n",
            "20/20 [==============================] - 1s 46ms/step - loss: 0.6336 - acc: 0.6789\n",
            "Epoch 11/100\n",
            "20/20 [==============================] - 1s 45ms/step - loss: 0.6477 - acc: 0.6773\n",
            "Epoch 12/100\n",
            "20/20 [==============================] - 1s 45ms/step - loss: 0.5815 - acc: 0.6934\n",
            "Epoch 13/100\n",
            "20/20 [==============================] - 1s 46ms/step - loss: 0.5929 - acc: 0.6998\n",
            "Epoch 14/100\n",
            "20/20 [==============================] - 1s 45ms/step - loss: 0.5800 - acc: 0.7078\n",
            "Epoch 15/100\n",
            "20/20 [==============================] - 1s 45ms/step - loss: 0.5347 - acc: 0.7262\n",
            "Epoch 16/100\n",
            "20/20 [==============================] - 1s 47ms/step - loss: 0.5271 - acc: 0.7318\n",
            "Epoch 17/100\n",
            "20/20 [==============================] - 1s 50ms/step - loss: 0.5231 - acc: 0.7430\n",
            "Epoch 18/100\n",
            "20/20 [==============================] - 1s 51ms/step - loss: 0.4859 - acc: 0.7646\n",
            "Epoch 19/100\n",
            "20/20 [==============================] - 1s 50ms/step - loss: 0.5069 - acc: 0.7590\n",
            "Epoch 20/100\n",
            "20/20 [==============================] - 1s 48ms/step - loss: 0.5021 - acc: 0.7622\n",
            "Epoch 21/100\n",
            "20/20 [==============================] - 1s 46ms/step - loss: 0.4851 - acc: 0.7710\n",
            "Epoch 22/100\n",
            "20/20 [==============================] - 1s 46ms/step - loss: 0.4764 - acc: 0.7854\n",
            "Epoch 23/100\n",
            "20/20 [==============================] - 1s 47ms/step - loss: 0.4617 - acc: 0.7758\n",
            "Epoch 24/100\n",
            "20/20 [==============================] - 1s 44ms/step - loss: 0.4609 - acc: 0.7870\n",
            "Epoch 25/100\n",
            "20/20 [==============================] - 1s 46ms/step - loss: 0.4135 - acc: 0.8078\n",
            "Epoch 26/100\n",
            "20/20 [==============================] - 1s 46ms/step - loss: 0.4180 - acc: 0.7966\n",
            "Epoch 27/100\n",
            "20/20 [==============================] - 1s 46ms/step - loss: 0.4283 - acc: 0.7950\n",
            "Epoch 28/100\n",
            "20/20 [==============================] - 1s 45ms/step - loss: 0.4335 - acc: 0.7998\n",
            "Epoch 29/100\n",
            "20/20 [==============================] - 1s 47ms/step - loss: 0.3952 - acc: 0.8223\n",
            "Epoch 30/100\n",
            "20/20 [==============================] - 1s 46ms/step - loss: 0.3909 - acc: 0.8135\n",
            "Epoch 31/100\n",
            "20/20 [==============================] - 1s 45ms/step - loss: 0.3738 - acc: 0.8303\n",
            "Epoch 32/100\n",
            "20/20 [==============================] - 1s 44ms/step - loss: 0.3748 - acc: 0.8175\n",
            "Epoch 33/100\n",
            "20/20 [==============================] - 1s 44ms/step - loss: 0.3815 - acc: 0.8239\n",
            "Epoch 34/100\n",
            "20/20 [==============================] - 1s 45ms/step - loss: 0.3877 - acc: 0.8231\n",
            "Epoch 35/100\n",
            "20/20 [==============================] - 1s 45ms/step - loss: 0.3713 - acc: 0.8255\n",
            "Epoch 36/100\n",
            "20/20 [==============================] - 1s 46ms/step - loss: 0.3477 - acc: 0.8575\n",
            "Epoch 37/100\n",
            "20/20 [==============================] - 1s 45ms/step - loss: 0.3238 - acc: 0.8527\n",
            "Epoch 38/100\n",
            "20/20 [==============================] - 1s 45ms/step - loss: 0.3137 - acc: 0.8599\n",
            "Epoch 39/100\n",
            "20/20 [==============================] - 1s 45ms/step - loss: 0.3533 - acc: 0.8311\n",
            "Epoch 40/100\n",
            "20/20 [==============================] - 1s 45ms/step - loss: 0.3213 - acc: 0.8671\n",
            "Epoch 41/100\n",
            "20/20 [==============================] - 1s 44ms/step - loss: 0.3215 - acc: 0.8751\n",
            "Epoch 42/100\n",
            "20/20 [==============================] - 1s 44ms/step - loss: 0.3691 - acc: 0.8279\n",
            "Epoch 43/100\n",
            "20/20 [==============================] - 1s 45ms/step - loss: 0.2959 - acc: 0.8831\n",
            "Epoch 44/100\n",
            "20/20 [==============================] - 1s 44ms/step - loss: 0.2935 - acc: 0.8751\n",
            "Epoch 45/100\n",
            "20/20 [==============================] - 1s 44ms/step - loss: 0.3099 - acc: 0.8631\n",
            "Epoch 46/100\n",
            "20/20 [==============================] - 1s 44ms/step - loss: 0.3194 - acc: 0.8607\n",
            "Epoch 47/100\n",
            "20/20 [==============================] - 1s 48ms/step - loss: 0.3123 - acc: 0.8711\n",
            "Epoch 48/100\n",
            "20/20 [==============================] - 1s 47ms/step - loss: 0.2994 - acc: 0.8695\n",
            "Epoch 49/100\n",
            "20/20 [==============================] - 1s 45ms/step - loss: 0.2311 - acc: 0.9159\n",
            "Epoch 50/100\n",
            "20/20 [==============================] - 1s 47ms/step - loss: 0.2961 - acc: 0.8751\n",
            "Epoch 51/100\n",
            "20/20 [==============================] - 1s 45ms/step - loss: 0.2688 - acc: 0.8855\n",
            "Epoch 52/100\n",
            "20/20 [==============================] - 1s 45ms/step - loss: 0.2739 - acc: 0.8863\n",
            "Epoch 53/100\n",
            "20/20 [==============================] - 1s 47ms/step - loss: 0.2433 - acc: 0.8959\n",
            "Epoch 54/100\n",
            "20/20 [==============================] - 1s 46ms/step - loss: 0.2926 - acc: 0.8823\n",
            "Epoch 55/100\n",
            "20/20 [==============================] - 1s 44ms/step - loss: 0.2578 - acc: 0.9071\n",
            "Epoch 56/100\n",
            "20/20 [==============================] - 1s 46ms/step - loss: 0.2193 - acc: 0.9095\n",
            "Epoch 57/100\n",
            "20/20 [==============================] - 1s 48ms/step - loss: 0.2781 - acc: 0.8847\n",
            "Epoch 58/100\n",
            "20/20 [==============================] - 1s 43ms/step - loss: 0.2549 - acc: 0.8991\n",
            "Epoch 59/100\n",
            "20/20 [==============================] - 1s 44ms/step - loss: 0.2446 - acc: 0.9071\n",
            "Epoch 60/100\n",
            "20/20 [==============================] - 1s 44ms/step - loss: 0.1949 - acc: 0.9239\n",
            "Epoch 61/100\n",
            "20/20 [==============================] - 1s 44ms/step - loss: 0.2351 - acc: 0.9015\n",
            "Epoch 62/100\n",
            "20/20 [==============================] - 1s 45ms/step - loss: 0.2097 - acc: 0.9167\n",
            "Epoch 63/100\n",
            "20/20 [==============================] - 1s 45ms/step - loss: 0.2250 - acc: 0.9007\n",
            "Epoch 64/100\n",
            "20/20 [==============================] - 1s 44ms/step - loss: 0.2110 - acc: 0.9247\n",
            "Epoch 65/100\n",
            "20/20 [==============================] - 1s 44ms/step - loss: 0.2226 - acc: 0.9071\n",
            "Epoch 66/100\n",
            "20/20 [==============================] - 1s 45ms/step - loss: 0.1970 - acc: 0.9287\n",
            "Epoch 67/100\n",
            "20/20 [==============================] - 1s 45ms/step - loss: 0.1873 - acc: 0.9287\n",
            "Epoch 68/100\n",
            "20/20 [==============================] - 1s 45ms/step - loss: 0.1888 - acc: 0.9319\n",
            "Epoch 69/100\n",
            "20/20 [==============================] - 1s 45ms/step - loss: 0.1797 - acc: 0.9392\n",
            "Epoch 70/100\n",
            "20/20 [==============================] - 1s 43ms/step - loss: 0.1934 - acc: 0.9247\n",
            "Epoch 71/100\n",
            "20/20 [==============================] - 1s 44ms/step - loss: 0.1997 - acc: 0.9247\n",
            "Epoch 72/100\n",
            "20/20 [==============================] - 1s 44ms/step - loss: 0.1888 - acc: 0.9295\n",
            "Epoch 73/100\n",
            "20/20 [==============================] - 1s 43ms/step - loss: 0.1660 - acc: 0.9367\n",
            "Epoch 74/100\n",
            "20/20 [==============================] - 1s 43ms/step - loss: 0.1859 - acc: 0.9215\n",
            "Epoch 75/100\n",
            "20/20 [==============================] - 1s 44ms/step - loss: 0.1507 - acc: 0.9512\n",
            "Epoch 76/100\n",
            "20/20 [==============================] - 1s 44ms/step - loss: 0.2074 - acc: 0.9103\n",
            "Epoch 77/100\n",
            "20/20 [==============================] - 1s 43ms/step - loss: 0.1630 - acc: 0.9408\n",
            "Epoch 78/100\n",
            "20/20 [==============================] - 1s 43ms/step - loss: 0.1926 - acc: 0.9223\n",
            "Epoch 79/100\n",
            "20/20 [==============================] - 1s 44ms/step - loss: 0.1443 - acc: 0.9544\n",
            "Epoch 80/100\n",
            "20/20 [==============================] - 1s 43ms/step - loss: 0.2097 - acc: 0.9231\n",
            "Epoch 81/100\n",
            "20/20 [==============================] - 1s 44ms/step - loss: 0.1444 - acc: 0.9424\n",
            "Epoch 82/100\n",
            "20/20 [==============================] - 1s 44ms/step - loss: 0.1732 - acc: 0.9303\n",
            "Epoch 83/100\n",
            "20/20 [==============================] - 1s 44ms/step - loss: 0.1263 - acc: 0.9552\n",
            "Epoch 84/100\n",
            "20/20 [==============================] - 1s 45ms/step - loss: 0.1347 - acc: 0.9520\n",
            "Epoch 85/100\n",
            "20/20 [==============================] - 1s 45ms/step - loss: 0.1893 - acc: 0.9199\n",
            "Epoch 86/100\n",
            "20/20 [==============================] - 1s 45ms/step - loss: 0.0891 - acc: 0.9808\n",
            "Epoch 87/100\n",
            "20/20 [==============================] - 1s 45ms/step - loss: 0.1502 - acc: 0.9335\n",
            "Epoch 88/100\n",
            "20/20 [==============================] - 1s 44ms/step - loss: 0.1351 - acc: 0.9488\n",
            "Epoch 89/100\n",
            "20/20 [==============================] - 1s 44ms/step - loss: 0.2076 - acc: 0.9167\n",
            "Epoch 90/100\n",
            "20/20 [==============================] - 1s 45ms/step - loss: 0.0884 - acc: 0.9744\n",
            "Epoch 91/100\n",
            "20/20 [==============================] - 1s 45ms/step - loss: 0.1601 - acc: 0.9343\n",
            "Epoch 92/100\n",
            "20/20 [==============================] - 1s 44ms/step - loss: 0.0983 - acc: 0.9696\n",
            "Epoch 93/100\n",
            "20/20 [==============================] - 1s 44ms/step - loss: 0.1260 - acc: 0.9536\n",
            "Epoch 94/100\n",
            "20/20 [==============================] - 1s 45ms/step - loss: 0.1383 - acc: 0.9512\n",
            "Epoch 95/100\n",
            "20/20 [==============================] - 1s 44ms/step - loss: 0.1145 - acc: 0.9632\n",
            "Epoch 96/100\n",
            "20/20 [==============================] - 1s 44ms/step - loss: 0.1081 - acc: 0.9672\n",
            "Epoch 97/100\n",
            "20/20 [==============================] - 1s 45ms/step - loss: 0.1078 - acc: 0.9640\n",
            "Epoch 98/100\n",
            "20/20 [==============================] - 1s 46ms/step - loss: 0.1314 - acc: 0.9520\n",
            "Epoch 99/100\n",
            "20/20 [==============================] - 1s 45ms/step - loss: 0.1247 - acc: 0.9504\n",
            "Epoch 100/100\n",
            "20/20 [==============================] - 1s 44ms/step - loss: 0.1380 - acc: 0.9488\n",
            "Time:  0:01:32.966187\n"
          ],
          "name": "stdout"
        }
      ]
    },
    {
      "cell_type": "markdown",
      "metadata": {
        "id": "SEzNDGhuoH0P"
      },
      "source": [
        "# **Training Accuracy and Test Accuracy**"
      ]
    },
    {
      "cell_type": "code",
      "metadata": {
        "colab": {
          "base_uri": "https://localhost:8080/"
        },
        "id": "58inp1a-oGrT",
        "outputId": "311ea103-eb12-4bda-ef8f-83d2d17868a6"
      },
      "source": [
        "from sklearn.metrics import accuracy_score\n",
        "train_pred = (model.predict(train_data) > 0.5).astype(\"int32\")\n",
        "#train_pred = to_categorical(train_pred, num_classes, dtype='float32')\n",
        "train_acc = accuracy_score(train_labels, train_pred)\n",
        "\n",
        "test_pred = train_pred = (model.predict(test_data) > 0.5).astype(\"int32\")\n",
        "#test_pred = to_categorical(test_pred, num_classes, dtype= 'float32')\n",
        "test_acc = accuracy_score(test_labels, test_pred )\n",
        "\n",
        "validation_pred = train_pred = (model.predict(validation_data) > 0.5).astype(\"int32\")\n",
        "#validation_pred = to_categorical(validation_pred, num_classes, dtype='float32')\n",
        "validation_acc = accuracy_score(validation_labels, validation_pred)\n",
        "\n",
        "print(\"Train Accuracy: \" , train_acc*100, \"%\")\n",
        "print(\"Test Accuracy: \" , test_acc*100, \"%\")\n",
        "print(\"Validation Accuracy: \" , validation_acc*100, \"%\")"
      ],
      "execution_count": 25,
      "outputs": [
        {
          "output_type": "stream",
          "text": [
            "Train Accuracy:  99.83987189751802 %\n",
            "Test Accuracy:  86.67736757624398 %\n",
            "Validation Accuracy:  58.0952380952381 %\n"
          ],
          "name": "stdout"
        }
      ]
    },
    {
      "cell_type": "markdown",
      "metadata": {
        "id": "zWkEmK9ydZyc"
      },
      "source": [
        "# **Confusion Matrix**"
      ]
    },
    {
      "cell_type": "code",
      "metadata": {
        "colab": {
          "base_uri": "https://localhost:8080/"
        },
        "id": "roVORI2SdYPn",
        "outputId": "f416470d-4d01-473e-d773-a7e5fe5b063e"
      },
      "source": [
        "\n",
        "print(metrics.confusion_matrix(test_labels, test_pred))\n"
      ],
      "execution_count": 26,
      "outputs": [
        {
          "output_type": "stream",
          "text": [
            "[[223  82]\n",
            " [  1 317]]\n"
          ],
          "name": "stdout"
        }
      ]
    },
    {
      "cell_type": "markdown",
      "metadata": {
        "id": "1u_hdKtQiUfe"
      },
      "source": [
        "# **Save Model**"
      ]
    },
    {
      "cell_type": "code",
      "metadata": {
        "colab": {
          "base_uri": "https://localhost:8080/"
        },
        "id": "OKD_R2qCiI48",
        "outputId": "fd59b682-c59a-4527-938a-370e368afb58"
      },
      "source": [
        "# Save the Modle to file in the current working directory\n",
        "# serialize model to JSON\n",
        "model_json = model.to_json()\n",
        "with open(\"/content/drive/MyDrive/Thesis work/VGG19model.json\", \"w\") as json_file:\n",
        "    json_file.write(model_json)\n",
        "# serialize weights to HDF5\n",
        "model.save_weights(\"/content/drive/MyDrive/Thesis work/VGG19model.h5\")\n",
        "print(\"Saved model to disk\")"
      ],
      "execution_count": 28,
      "outputs": [
        {
          "output_type": "stream",
          "text": [
            "Saved model to disk\n"
          ],
          "name": "stdout"
        }
      ]
    },
    {
      "cell_type": "markdown",
      "metadata": {
        "id": "-B64jVPglDg7"
      },
      "source": [
        "# **Load Model**"
      ]
    },
    {
      "cell_type": "code",
      "metadata": {
        "colab": {
          "base_uri": "https://localhost:8080/"
        },
        "id": "83Xp0A76iTkG",
        "outputId": "e40db844-3faa-4906-e0c4-93df76acdd1c"
      },
      "source": [
        "# Load the Model back from file\n",
        "from keras.models import model_from_json\n",
        "json_file = open('/content/drive/MyDrive/Thesis work/VGG19model.json', 'r')\n",
        "loaded_model_json = json_file.read()\n",
        "json_file.close()\n",
        "loaded_model = model_from_json(loaded_model_json)\n",
        "# load weights into new model\n",
        "loaded_model.load_weights(\"/content/drive/MyDrive/Thesis work/VGG19model.h5\")\n",
        "print(\"Loaded model from disk\")"
      ],
      "execution_count": 29,
      "outputs": [
        {
          "output_type": "stream",
          "text": [
            "Loaded model from disk\n"
          ],
          "name": "stdout"
        }
      ]
    },
    {
      "cell_type": "markdown",
      "metadata": {
        "id": "GkAZ_3Af-wRy"
      },
      "source": [
        "## **Evaluate model on test data**"
      ]
    },
    {
      "cell_type": "code",
      "metadata": {
        "colab": {
          "base_uri": "https://localhost:8080/"
        },
        "id": "rqrxz_rT8867",
        "outputId": "f1ebc15d-9d52-450b-d230-bff266340b90"
      },
      "source": [
        "# evaluate loaded model on test data\n",
        "\n",
        "loaded_model.compile(loss='binary_crossentropy', optimizer='rmsprop', metrics=['accuracy'])\n",
        "prediction = loaded_model.predict_classes(test_data)\n",
        "prediction = to_categorical(prediction)\n",
        "accuracy_score = accuracy_score(test_labels, prediction)\n",
        "print(\"Accuracy score: %.2f %\", accuracy_score)\n",
        "#score = loaded_model.evaluate(validation_data, validation_labels, verbose=0)\n"
      ],
      "execution_count": null,
      "outputs": [
        {
          "output_type": "stream",
          "text": [
            "/usr/local/lib/python3.7/dist-packages/keras/engine/sequential.py:450: UserWarning: `model.predict_classes()` is deprecated and will be removed after 2021-01-01. Please use instead:* `np.argmax(model.predict(x), axis=-1)`,   if your model does multi-class classification   (e.g. if it uses a `softmax` last-layer activation).* `(model.predict(x) > 0.5).astype(\"int32\")`,   if your model does binary classification   (e.g. if it uses a `sigmoid` last-layer activation).\n",
            "  warnings.warn('`model.predict_classes()` is deprecated and '\n"
          ],
          "name": "stderr"
        },
        {
          "output_type": "stream",
          "text": [
            "Accuracy score: %.2f % 0.8828250401284109\n"
          ],
          "name": "stdout"
        }
      ]
    },
    {
      "cell_type": "markdown",
      "metadata": {
        "id": "bVSekf28qroS"
      },
      "source": [
        "Code for visualization of the Accuracy and Loss:"
      ]
    },
    {
      "cell_type": "code",
      "metadata": {
        "colab": {
          "base_uri": "https://localhost:8080/",
          "height": 231
        },
        "id": "M1bY9P_Moh8U",
        "outputId": "48838b8d-deea-4b0d-af34-2dfcaf93b782"
      },
      "source": [
        "#Graphing our training and validation\n",
        "acc = history.history['acc']\n",
        "val_acc = history.history['val_acc']\n",
        "loss = history.history['loss']\n",
        "val_loss = history.history['val_loss']\n",
        "epochs = range(len(acc))\n",
        "plt.plot(epochs, acc, 'r', label='Training acc')\n",
        "plt.plot(epochs, val_acc, 'b', label='Validation acc')\n",
        "plt.title('Training and validation accuracy')\n",
        "plt.ylabel('accuracy') \n",
        "plt.xlabel('epoch')\n",
        "plt.legend()\n",
        "plt.figure()\n",
        "plt.plot(epochs, loss, 'r', label='Training loss')\n",
        "plt.plot(epochs, val_loss, 'b', label='Validation loss')\n",
        "plt.title('Training and validation loss')\n",
        "plt.ylabel('loss') \n",
        "plt.xlabel('epoch')\n",
        "plt.legend()\n",
        "plt.show()"
      ],
      "execution_count": 30,
      "outputs": [
        {
          "output_type": "error",
          "ename": "KeyError",
          "evalue": "ignored",
          "traceback": [
            "\u001b[0;31m---------------------------------------------------------------------------\u001b[0m",
            "\u001b[0;31mKeyError\u001b[0m                                  Traceback (most recent call last)",
            "\u001b[0;32m<ipython-input-30-4d0c5d58be10>\u001b[0m in \u001b[0;36m<module>\u001b[0;34m()\u001b[0m\n\u001b[1;32m      1\u001b[0m \u001b[0;31m#Graphing our training and validation\u001b[0m\u001b[0;34m\u001b[0m\u001b[0;34m\u001b[0m\u001b[0;34m\u001b[0m\u001b[0m\n\u001b[1;32m      2\u001b[0m \u001b[0macc\u001b[0m \u001b[0;34m=\u001b[0m \u001b[0mhistory\u001b[0m\u001b[0;34m.\u001b[0m\u001b[0mhistory\u001b[0m\u001b[0;34m[\u001b[0m\u001b[0;34m'acc'\u001b[0m\u001b[0;34m]\u001b[0m\u001b[0;34m\u001b[0m\u001b[0;34m\u001b[0m\u001b[0m\n\u001b[0;32m----> 3\u001b[0;31m \u001b[0mval_acc\u001b[0m \u001b[0;34m=\u001b[0m \u001b[0mhistory\u001b[0m\u001b[0;34m.\u001b[0m\u001b[0mhistory\u001b[0m\u001b[0;34m[\u001b[0m\u001b[0;34m'val_acc'\u001b[0m\u001b[0;34m]\u001b[0m\u001b[0;34m\u001b[0m\u001b[0;34m\u001b[0m\u001b[0m\n\u001b[0m\u001b[1;32m      4\u001b[0m \u001b[0mloss\u001b[0m \u001b[0;34m=\u001b[0m \u001b[0mhistory\u001b[0m\u001b[0;34m.\u001b[0m\u001b[0mhistory\u001b[0m\u001b[0;34m[\u001b[0m\u001b[0;34m'loss'\u001b[0m\u001b[0;34m]\u001b[0m\u001b[0;34m\u001b[0m\u001b[0;34m\u001b[0m\u001b[0m\n\u001b[1;32m      5\u001b[0m \u001b[0mval_loss\u001b[0m \u001b[0;34m=\u001b[0m \u001b[0mhistory\u001b[0m\u001b[0;34m.\u001b[0m\u001b[0mhistory\u001b[0m\u001b[0;34m[\u001b[0m\u001b[0;34m'val_loss'\u001b[0m\u001b[0;34m]\u001b[0m\u001b[0;34m\u001b[0m\u001b[0;34m\u001b[0m\u001b[0m\n",
            "\u001b[0;31mKeyError\u001b[0m: 'val_acc'"
          ]
        }
      ]
    },
    {
      "cell_type": "markdown",
      "metadata": {
        "id": "rP5kg5H8uGxp"
      },
      "source": [
        "# **ROC AUC**"
      ]
    },
    {
      "cell_type": "code",
      "metadata": {
        "colab": {
          "base_uri": "https://localhost:8080/"
        },
        "id": "61ISNfbnJ-OM",
        "outputId": "c070655f-3a34-47db-f806-5335bfb2ee6b"
      },
      "source": [
        "from sklearn.metrics import roc_curve\n",
        "from sklearn.metrics import roc_auc_score\n",
        "# generate a no skill prediction (majority class)\n",
        "y_score1 = model.predict_proba(test_data)\n",
        "false_positive_rate1, true_positive_rate1, threshold1 = roc_curve(test_labels, y_score1)\n",
        "print('roc_auc_score for VGG16: ', roc_auc_score(test_labels, y_score1))"
      ],
      "execution_count": 31,
      "outputs": [
        {
          "output_type": "stream",
          "text": [
            "roc_auc_score for VGG16:  0.9622435302608516\n"
          ],
          "name": "stdout"
        },
        {
          "output_type": "stream",
          "text": [
            "/usr/local/lib/python3.7/dist-packages/tensorflow/python/keras/engine/sequential.py:430: UserWarning: `model.predict_proba()` is deprecated and will be removed after 2021-01-01. Please use `model.predict()` instead.\n",
            "  warnings.warn('`model.predict_proba()` is deprecated and '\n"
          ],
          "name": "stderr"
        }
      ]
    },
    {
      "cell_type": "code",
      "metadata": {
        "colab": {
          "base_uri": "https://localhost:8080/",
          "height": 638
        },
        "id": "Aaa0x3_MuMs_",
        "outputId": "b2abfd96-cb00-4679-ffa1-e4b3154b2fd7"
      },
      "source": [
        "#Plot ROC AUC curve\n",
        "plt.subplots(1, figsize=(10,10))\n",
        "plt.title('Receiver Operating Characteristic - VGG16')\n",
        "plt.plot(false_positive_rate1, true_positive_rate1)\n",
        "plt.plot([0, 1], ls=\"--\")\n",
        "plt.plot([0, 0], [1, 0] , c=\".7\"), plt.plot([1, 1] , c=\".7\")\n",
        "plt.ylabel('True Positive Rate')\n",
        "plt.xlabel('False Positive Rate')\n",
        "plt.legend()\n",
        "plt.show()\n",
        "\n"
      ],
      "execution_count": 32,
      "outputs": [
        {
          "output_type": "stream",
          "text": [
            "No handles with labels found to put in legend.\n"
          ],
          "name": "stderr"
        },
        {
          "output_type": "display_data",
          "data": {
            "image/png": "[encoded data removed]",
            "text/plain": [
              "<Figure size 720x720 with 1 Axes>"
            ]
          },
          "metadata": {
            "tags": [],
            "needs_background": "light"
          }
        }
      ]
    },
    {
      "cell_type": "markdown",
      "metadata": {
        "id": "qdylweKdxjL1"
      },
      "source": [
        "# **Plot ROC- AUC curve**"
      ]
    },
    {
      "cell_type": "code",
      "metadata": {
        "colab": {
          "base_uri": "https://localhost:8080/",
          "height": 476
        },
        "id": "ef9uqqXh8uce",
        "outputId": "74da30f0-6275-483d-fe30-e1553a715c22"
      },
      "source": [
        "\n",
        "ns_probs = [0 for _ in range(len(test_labels))]\n",
        "\n",
        "# predict probabilities\n",
        "lr_probs = model.predict_proba(test_data)\n",
        "# keep probabilities for the positive outcome only\n",
        "#lr_probs = lr_probs[:, 0]\n",
        "# calculate scores\n",
        "ns_auc = roc_auc_score(test_labels, ns_probs)\n",
        "lr_auc = roc_auc_score(test_labels, lr_probs)\n",
        "# summarize scores\n",
        "print('No Skill: ROC AUC=%.3f' % (ns_auc))\n",
        "print('VGG16: ROC AUC=%.3f' % (lr_auc))\n",
        "# calculate roc curves\n",
        "ns_fpr, ns_tpr, _ = roc_curve(test_labels, ns_probs)\n",
        "lr_fpr, lr_tpr, _ = roc_curve(test_labels, lr_probs)\n",
        "# plot the roc curve for the model\n",
        "plt.subplots(1, figsize=(10,6))\n",
        "plt.plot(ns_fpr, ns_tpr, linestyle='--', label='No Skill')\n",
        "plt.plot(lr_fpr, lr_tpr, marker='.', label='VGG16')\n",
        "# axis labels\n",
        "plt.xlabel('False Positive Rate')\n",
        "plt.ylabel('True Positive Rate')\n",
        "# show the legend\n",
        "plt.legend()\n",
        "# show the plot\n",
        "plt.show()"
      ],
      "execution_count": 33,
      "outputs": [
        {
          "output_type": "stream",
          "text": [
            "/usr/local/lib/python3.7/dist-packages/tensorflow/python/keras/engine/sequential.py:430: UserWarning: `model.predict_proba()` is deprecated and will be removed after 2021-01-01. Please use `model.predict()` instead.\n",
            "  warnings.warn('`model.predict_proba()` is deprecated and '\n"
          ],
          "name": "stderr"
        },
        {
          "output_type": "stream",
          "text": [
            "No Skill: ROC AUC=0.500\n",
            "VGG16: ROC AUC=0.962\n"
          ],
          "name": "stdout"
        },
        {
          "output_type": "display_data",
          "data": {
            "image/png": "[encoded data removed]",
            "text/plain": [
              "<Figure size 720x432 with 1 Axes>"
            ]
          },
          "metadata": {
            "tags": [],
            "needs_background": "light"
          }
        }
      ]
    }
  ]
}