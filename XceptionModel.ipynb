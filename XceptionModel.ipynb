{
  "nbformat": 4,
  "nbformat_minor": 0,
  "metadata": {
    "colab": {
      "name": "XceptionOnMSIvsMSS.ipynb",
      "provenance": [],
      "toc_visible": true,
      "authorship_tag": "ABX9TyOo00mvqhtPwk2ar8g2AlkO",
      "include_colab_link": true
    },
    "kernelspec": {
      "display_name": "Python 3",
      "name": "python3"
    },
    "language_info": {
      "name": "python"
    }
  },
  "cells": [
    {
      "cell_type": "markdown",
      "metadata": {
        "id": "view-in-github",
        "colab_type": "text"
      },
      "source": [
        "<a href=\"https://colab.research.google.com/github/Deepty11/MSI-MSS-prediction-deep-learning/blob/main/XceptionModel.ipynb\" target=\"_parent\"><img src=\"https://colab.research.google.com/assets/colab-badge.svg\" alt=\"Open In Colab\"/></a>"
      ]
    },
    {
      "cell_type": "code",
      "metadata": {
        "id": "pNBAPRWZqdXL"
      },
      "source": [
        "!pip install keras==2.3.0"
      ],
      "execution_count": null,
      "outputs": []
    },
    {
      "cell_type": "code",
      "metadata": {
        "colab": {
          "base_uri": "https://localhost:8080/"
        },
        "id": "wpQmrphVXr-P",
        "outputId": "8174a24d-e6c7-482a-c951-50de64ab8b18"
      },
      "source": [
        "from google.colab import drive\n",
        "drive.mount('/content/drive')"
      ],
      "execution_count": 1,
      "outputs": [
        {
          "output_type": "stream",
          "text": [
            "Mounted at /content/drive\n"
          ],
          "name": "stdout"
        }
      ]
    },
    {
      "cell_type": "code",
      "metadata": {
        "id": "bL2eDlncYaX3"
      },
      "source": [
        "import pandas as pd\n",
        "import numpy as np \n",
        "import itertools\n",
        "import tensorflow as tf\n",
        "from tensorflow import keras\n",
        "\n",
        "from sklearn import metrics\n",
        "from sklearn.metrics import confusion_matrix\n",
        "from tensorflow.keras.preprocessing import image\n",
        "from tensorflow.keras.preprocessing.image import ImageDataGenerator, img_to_array, load_img \n",
        "from tensorflow.keras.models import Sequential \n",
        "from tensorflow.keras import optimizers\n",
        "from tensorflow.keras.preprocessing import image\n",
        "from tensorflow.keras.layers import Dropout, Flatten, Dense \n",
        "from tensorflow.keras import applications \n",
        "from keras.utils.np_utils import to_categorical \n",
        "from tensorflow.keras.applications.xception import Xception\n",
        "import matplotlib.pyplot as plt \n",
        "import matplotlib.image as mpimg\n",
        "%matplotlib inline\n",
        "import math \n",
        "import datetime\n",
        "import time"
      ],
      "execution_count": 2,
      "outputs": []
    },
    {
      "cell_type": "code",
      "metadata": {
        "id": "DsrVBnfsYgCA"
      },
      "source": [
        "#Default dimensions we found online\n",
        "img_width, img_height = 224, 224 \n",
        " \n",
        "#Create a bottleneck file\n",
        "top_model_weights_path = 'bottleneck_fc_model.h5'\n",
        "# loading up our datasets\n",
        "train_data_dir = '/content/drive/MyDrive/Thesis work/augmented/train'\n",
        "validation_data_dir = '/content/drive/MyDrive/Thesis work/augmented/val ' \n",
        "test_data_dir = '/content/drive/MyDrive/Thesis work/augmented/test'\n",
        "#test_data_dir = ‘data/test’\n",
        " \n",
        "# number of epochs to train top model \n",
        "#epochs = 50 #this has been changed after multiple model run \n",
        "# batch size used by flow_from_directory and predict_generator \n",
        "batch_size = 40 "
      ],
      "execution_count": 3,
      "outputs": []
    },
    {
      "cell_type": "code",
      "metadata": {
        "id": "vYe8FKA_Y4M5",
        "colab": {
          "base_uri": "https://localhost:8080/"
        },
        "outputId": "80f7a120-3f3c-4e26-e953-1751b206348e"
      },
      "source": [
        "#Loading vgc16 model\n",
        "xception = Xception(include_top=False, weights='imagenet', input_shape= (224, 224, 3))\n",
        "datagen = ImageDataGenerator(rescale=1. / 255) \n",
        "#needed to create the bottleneck .npy files"
      ],
      "execution_count": 5,
      "outputs": [
        {
          "output_type": "stream",
          "text": [
            "Downloading data from https://storage.googleapis.com/tensorflow/keras-applications/xception/xception_weights_tf_dim_ordering_tf_kernels_notop.h5\n",
            "83689472/83683744 [==============================] - 1s 0us/step\n"
          ],
          "name": "stdout"
        }
      ]
    },
    {
      "cell_type": "markdown",
      "metadata": {
        "id": "YHtQbkzvx50U"
      },
      "source": [
        "# Bottleneck data for train data"
      ]
    },
    {
      "cell_type": "markdown",
      "metadata": {
        "id": "RulYmjy7ZdwI"
      },
      "source": [
        "Creation of the weights and feature using VGG16:\n"
      ]
    },
    {
      "cell_type": "code",
      "metadata": {
        "colab": {
          "base_uri": "https://localhost:8080/"
        },
        "id": "RgnXTAfgZBkQ",
        "outputId": "a3664b3e-6edc-4697-9b26-0ce067d78240"
      },
      "source": [
        "#__this can take an hour and half to run so only run it once. \n",
        "#once the npy files have been created, no need to run again. Convert this cell to a code cell to run.__\n",
        "start = datetime.datetime.now()\n",
        " \n",
        "generator = datagen.flow_from_directory( \n",
        "    train_data_dir, \n",
        "    target_size=(img_width, img_height), \n",
        "    batch_size=batch_size, \n",
        "    class_mode=None, \n",
        "    shuffle=False) \n",
        " \n",
        "nb_train_samples = len(generator.filenames) \n",
        "num_classes = len(generator.class_indices) \n",
        " \n",
        "predict_size_train = int(math.ceil(nb_train_samples / batch_size)) \n",
        " \n",
        "bottleneck_features_train = xception.predict_generator(generator, predict_size_train) \n",
        " \n",
        "np.save('/content/drive/MyDrive/Thesis work/bottleneck_features_train_xception.npy', bottleneck_features_train)\n",
        "end= datetime.datetime.now()\n",
        "elapsed= end-start\n",
        "print ('Time: ', elapsed)"
      ],
      "execution_count": 7,
      "outputs": [
        {
          "output_type": "stream",
          "text": [
            "Found 1249 images belonging to 2 classes.\n"
          ],
          "name": "stdout"
        },
        {
          "output_type": "stream",
          "text": [
            "/usr/local/lib/python3.7/dist-packages/tensorflow/python/keras/engine/training.py:2001: UserWarning: `Model.predict_generator` is deprecated and will be removed in a future version. Please use `Model.predict`, which supports generators.\n",
            "  warnings.warn('`Model.predict_generator` is deprecated and '\n"
          ],
          "name": "stderr"
        },
        {
          "output_type": "stream",
          "text": [
            "Time:  0:06:02.855217\n"
          ],
          "name": "stdout"
        }
      ]
    },
    {
      "cell_type": "markdown",
      "metadata": {
        "id": "mfqaO67KhRFL"
      },
      "source": [
        "Creating a bottleneck file for the training data. (Same step for validation and testing):"
      ]
    },
    {
      "cell_type": "code",
      "metadata": {
        "colab": {
          "base_uri": "https://localhost:8080/"
        },
        "id": "fdED6RZThM_e",
        "outputId": "49b57836-b770-4ad6-dd6f-f19bbd134185"
      },
      "source": [
        "#training data\n",
        "generator_top = datagen.flow_from_directory( \n",
        "   train_data_dir, \n",
        "   target_size=(img_width, img_height), \n",
        "   batch_size=batch_size, \n",
        "   class_mode= None, \n",
        "   shuffle=False) \n",
        " \n",
        "nb_train_samples = len(generator_top.filenames) \n",
        "num_classes = len(generator_top.class_indices) \n",
        " \n",
        "# load the bottleneck features saved earlier \n",
        "train_data = np.load('/content/drive/MyDrive/Thesis work/bottleneck_features_train_xception.npy') \n",
        " \n",
        "# get the class labels for the training data, in the original order \n",
        "train_labels = generator_top.classes \n",
        " \n",
        "# convert the training labels to categorical vectors \n",
        "#train_labels = to_categorical(train_labels, num_classes=num_classes)\n",
        "train_labels"
      ],
      "execution_count": 8,
      "outputs": [
        {
          "output_type": "stream",
          "text": [
            "Found 1249 images belonging to 2 classes.\n"
          ],
          "name": "stdout"
        },
        {
          "output_type": "execute_result",
          "data": {
            "text/plain": [
              "array([0, 0, 0, ..., 1, 1, 1], dtype=int32)"
            ]
          },
          "metadata": {
            "tags": []
          },
          "execution_count": 8
        }
      ]
    },
    {
      "cell_type": "markdown",
      "metadata": {
        "id": "iVXFOfQ5x-Pp"
      },
      "source": [
        "# Bottleneck data for validation data"
      ]
    },
    {
      "cell_type": "code",
      "metadata": {
        "colab": {
          "base_uri": "https://localhost:8080/"
        },
        "id": "WXP115RpiOox",
        "outputId": "0ab82733-7d0c-4f4c-8f87-cf5f55ea6068"
      },
      "source": [
        "#__this can take an hour and half to run so only run it once. \n",
        "#once the npy files have been created, no need to run again. Convert this cell to a code cell to run.__\n",
        "start = datetime.datetime.now()\n",
        " \n",
        "generator = datagen.flow_from_directory( \n",
        "    validation_data_dir, \n",
        "    target_size=(img_width, img_height), \n",
        "    batch_size=batch_size, \n",
        "    class_mode=None, \n",
        "    shuffle=False) \n",
        " \n",
        "nb_validation_samples = len(generator.filenames) \n",
        "num_classes = len(generator.class_indices) \n",
        " \n",
        "predict_size_validation = int(math.ceil(nb_validation_samples / batch_size)) \n",
        " \n",
        "bottleneck_features_validation = xception.predict_generator(generator, predict_size_validation) \n",
        " \n",
        "np.save('/content/drive/MyDrive/Thesis work/bottleneck_features_validation_xception.npy', bottleneck_features_validation)\n",
        "end= datetime.datetime.now()\n",
        "elapsed= end-start\n",
        "print ('Time: ', elapsed)"
      ],
      "execution_count": 9,
      "outputs": [
        {
          "output_type": "stream",
          "text": [
            "Found 630 images belonging to 2 classes.\n"
          ],
          "name": "stdout"
        },
        {
          "output_type": "stream",
          "text": [
            "/usr/local/lib/python3.7/dist-packages/tensorflow/python/keras/engine/training.py:2001: UserWarning: `Model.predict_generator` is deprecated and will be removed in a future version. Please use `Model.predict`, which supports generators.\n",
            "  warnings.warn('`Model.predict_generator` is deprecated and '\n"
          ],
          "name": "stderr"
        },
        {
          "output_type": "stream",
          "text": [
            "Time:  0:03:11.432730\n"
          ],
          "name": "stdout"
        }
      ]
    },
    {
      "cell_type": "code",
      "metadata": {
        "colab": {
          "base_uri": "https://localhost:8080/"
        },
        "id": "dQ3Xz4U4hfnK",
        "outputId": "8b64a014-c6d6-4bd9-e494-fe0b07fae566"
      },
      "source": [
        "#validation data\n",
        "generator_top = datagen.flow_from_directory( \n",
        "   validation_data_dir, \n",
        "   target_size=(img_width, img_height), \n",
        "   batch_size=batch_size, \n",
        "   class_mode= None, \n",
        "   shuffle=False) \n",
        " \n",
        "nb_validation_samples = len(generator_top.filenames) \n",
        "num_classes = len(generator_top.class_indices) \n",
        " \n",
        "# load the bottleneck features saved earlier \n",
        "validation_data = np.load('/content/drive/MyDrive/Thesis work/bottleneck_features_validation_xception.npy') \n",
        " \n",
        "# get the class labels for the training data, in the original order \n",
        "validation_labels = generator_top.classes \n",
        " \n",
        "# convert the training labels to categorical vectors \n",
        "#validation_labels = to_categorical(validation_labels, num_classes=num_classes)"
      ],
      "execution_count": 10,
      "outputs": [
        {
          "output_type": "stream",
          "text": [
            "Found 630 images belonging to 2 classes.\n"
          ],
          "name": "stdout"
        }
      ]
    },
    {
      "cell_type": "markdown",
      "metadata": {
        "id": "rWuHYErOyCkt"
      },
      "source": [
        "# Bottleneck data for test data"
      ]
    },
    {
      "cell_type": "code",
      "metadata": {
        "colab": {
          "base_uri": "https://localhost:8080/"
        },
        "id": "hf7UiVqc_vlx",
        "outputId": "8eff148e-694b-4a6f-8990-3eebc255d316"
      },
      "source": [
        "#__this can take an hour and half to run so only run it once. \n",
        "#once the npy files have been created, no need to run again. Convert this cell to a code cell to run.__\n",
        "start = datetime.datetime.now()\n",
        " \n",
        "generator = datagen.flow_from_directory( \n",
        "    test_data_dir, \n",
        "    target_size=(img_width, img_height), \n",
        "    batch_size=batch_size, \n",
        "    class_mode= None, \n",
        "    shuffle=False) \n",
        " \n",
        "nb_validation_samples = len(generator.filenames) \n",
        "num_classes = len(generator.class_indices) \n",
        " \n",
        "predict_size_validation = int(math.ceil(nb_validation_samples / batch_size)) \n",
        " \n",
        "bottleneck_features_validation = xception.predict_generator(generator, predict_size_validation) \n",
        " \n",
        "np.save('/content/drive/MyDrive/Thesis work/bottleneck_features_test_xception.npy', bottleneck_features_validation)\n",
        "end= datetime.datetime.now()\n",
        "elapsed= end-start\n",
        "print ('Time: ', elapsed)"
      ],
      "execution_count": 11,
      "outputs": [
        {
          "output_type": "stream",
          "text": [
            "Found 623 images belonging to 2 classes.\n"
          ],
          "name": "stdout"
        },
        {
          "output_type": "stream",
          "text": [
            "/usr/local/lib/python3.7/dist-packages/tensorflow/python/keras/engine/training.py:2001: UserWarning: `Model.predict_generator` is deprecated and will be removed in a future version. Please use `Model.predict`, which supports generators.\n",
            "  warnings.warn('`Model.predict_generator` is deprecated and '\n"
          ],
          "name": "stderr"
        },
        {
          "output_type": "stream",
          "text": [
            "Time:  0:02:35.781740\n"
          ],
          "name": "stdout"
        }
      ]
    },
    {
      "cell_type": "code",
      "metadata": {
        "colab": {
          "base_uri": "https://localhost:8080/"
        },
        "id": "KQyqA5Kj_vJh",
        "outputId": "bb2e5852-b24a-4e80-e06c-7cf2ee2749f7"
      },
      "source": [
        "#test data\n",
        "\n",
        "generator_top = datagen.flow_from_directory( \n",
        "   test_data_dir, \n",
        "   target_size=(img_width, img_height), \n",
        "   batch_size=batch_size, \n",
        "   class_mode= None, \n",
        "   shuffle=False) \n",
        " \n",
        "nb_test_samples = len(generator_top.filenames) \n",
        "num_classes = len(generator_top.class_indices) \n",
        " \n",
        "# load the bottleneck features saved earlier \n",
        "test_data = np.load('/content/drive/MyDrive/Thesis work/bottleneck_features_test_xception.npy') \n",
        " \n",
        "# get the class labels for the training data, in the original order \n",
        "test_labels = generator_top.classes \n",
        " \n",
        "# convert the training labels to categorical vectors \n",
        "#test_labels = to_categorical(test_labels, num_classes=num_classes)"
      ],
      "execution_count": 12,
      "outputs": [
        {
          "output_type": "stream",
          "text": [
            "Found 623 images belonging to 2 classes.\n"
          ],
          "name": "stdout"
        }
      ]
    },
    {
      "cell_type": "markdown",
      "metadata": {
        "id": "eZy1geSHyHWM"
      },
      "source": [
        "# Compile and Fit model"
      ]
    },
    {
      "cell_type": "code",
      "metadata": {
        "colab": {
          "base_uri": "https://localhost:8080/"
        },
        "id": "OdvUOiDhm3Av",
        "outputId": "0615d3bf-0b5d-4b70-be69-ef7485dfb277"
      },
      "source": [
        "#This is the best model we found. For additional models, check out I_notebook.ipynb\n",
        "start = datetime.datetime.now()\n",
        "model = Sequential() \n",
        "model.add(Flatten(input_shape=train_data.shape[1:])) \n",
        "model.add(Dense(200, activation=keras.layers.LeakyReLU(alpha=0.3))) \n",
        "model.add(Dropout(0.9)) \n",
        "\n",
        "model.add(Dense(1, activation='sigmoid'))\n",
        "model.compile(loss='binary_crossentropy',\n",
        "   optimizer=optimizers.RMSprop(learning_rate=1e-4),\n",
        "   metrics=['acc'])\n",
        "\n",
        "history = model.fit(train_data, train_labels, \n",
        "   epochs=100,\n",
        "   batch_size=64)\n",
        "\n",
        "model.save_weights(top_model_weights_path)\n",
        "\n",
        "\n",
        "end= datetime.datetime.now()\n",
        "elapsed= end-start\n",
        "print (\"Time: \", elapsed)"
      ],
      "execution_count": 33,
      "outputs": [
        {
          "output_type": "stream",
          "text": [
            "Epoch 1/100\n",
            "20/20 [==============================] - 6s 255ms/step - loss: 3.4517 - acc: 0.5524\n",
            "Epoch 2/100\n",
            "20/20 [==============================] - 5s 249ms/step - loss: 2.0099 - acc: 0.6021\n",
            "Epoch 3/100\n",
            "20/20 [==============================] - 5s 251ms/step - loss: 2.0365 - acc: 0.5821\n",
            "Epoch 4/100\n",
            "20/20 [==============================] - 5s 249ms/step - loss: 1.9175 - acc: 0.6101\n",
            "Epoch 5/100\n",
            "20/20 [==============================] - 5s 249ms/step - loss: 1.5642 - acc: 0.6565\n",
            "Epoch 6/100\n",
            "20/20 [==============================] - 5s 248ms/step - loss: 1.7655 - acc: 0.6253\n",
            "Epoch 7/100\n",
            "20/20 [==============================] - 5s 251ms/step - loss: 1.5494 - acc: 0.6589\n",
            "Epoch 8/100\n",
            "20/20 [==============================] - 5s 251ms/step - loss: 1.4338 - acc: 0.6861\n",
            "Epoch 9/100\n",
            "20/20 [==============================] - 5s 251ms/step - loss: 1.5800 - acc: 0.6613\n",
            "Epoch 10/100\n",
            "20/20 [==============================] - 5s 249ms/step - loss: 1.2955 - acc: 0.6974\n",
            "Epoch 11/100\n",
            "20/20 [==============================] - 5s 251ms/step - loss: 1.4440 - acc: 0.7006\n",
            "Epoch 12/100\n",
            "20/20 [==============================] - 5s 248ms/step - loss: 1.6573 - acc: 0.6837\n",
            "Epoch 13/100\n",
            "20/20 [==============================] - 5s 252ms/step - loss: 1.1928 - acc: 0.7270\n",
            "Epoch 14/100\n",
            "20/20 [==============================] - 5s 251ms/step - loss: 1.1210 - acc: 0.7286\n",
            "Epoch 15/100\n",
            "20/20 [==============================] - 5s 253ms/step - loss: 1.6966 - acc: 0.6958\n",
            "Epoch 16/100\n",
            "20/20 [==============================] - 5s 250ms/step - loss: 1.3086 - acc: 0.7302\n",
            "Epoch 17/100\n",
            "20/20 [==============================] - 5s 252ms/step - loss: 1.2338 - acc: 0.7270\n",
            "Epoch 18/100\n",
            "20/20 [==============================] - 5s 254ms/step - loss: 1.3339 - acc: 0.7238\n",
            "Epoch 19/100\n",
            "20/20 [==============================] - 5s 257ms/step - loss: 0.9757 - acc: 0.7742\n",
            "Epoch 20/100\n",
            "20/20 [==============================] - 5s 257ms/step - loss: 1.1054 - acc: 0.7550\n",
            "Epoch 21/100\n",
            "20/20 [==============================] - 5s 257ms/step - loss: 1.0648 - acc: 0.7598\n",
            "Epoch 22/100\n",
            "20/20 [==============================] - 5s 254ms/step - loss: 1.0209 - acc: 0.7694\n",
            "Epoch 23/100\n",
            "20/20 [==============================] - 5s 252ms/step - loss: 1.1145 - acc: 0.7582\n",
            "Epoch 24/100\n",
            "20/20 [==============================] - 5s 254ms/step - loss: 0.8646 - acc: 0.7934\n",
            "Epoch 25/100\n",
            "20/20 [==============================] - 5s 258ms/step - loss: 1.0898 - acc: 0.7718\n",
            "Epoch 26/100\n",
            "20/20 [==============================] - 5s 253ms/step - loss: 0.9004 - acc: 0.8038\n",
            "Epoch 27/100\n",
            "20/20 [==============================] - 5s 254ms/step - loss: 0.9035 - acc: 0.7958\n",
            "Epoch 28/100\n",
            "20/20 [==============================] - 5s 253ms/step - loss: 0.7951 - acc: 0.7934\n",
            "Epoch 29/100\n",
            "20/20 [==============================] - 5s 253ms/step - loss: 0.7976 - acc: 0.8215\n",
            "Epoch 30/100\n",
            "20/20 [==============================] - 5s 253ms/step - loss: 0.9628 - acc: 0.7902\n",
            "Epoch 31/100\n",
            "20/20 [==============================] - 5s 255ms/step - loss: 0.8984 - acc: 0.8046\n",
            "Epoch 32/100\n",
            "20/20 [==============================] - 5s 254ms/step - loss: 0.7851 - acc: 0.8159\n",
            "Epoch 33/100\n",
            "20/20 [==============================] - 5s 251ms/step - loss: 0.7099 - acc: 0.8207\n",
            "Epoch 34/100\n",
            "20/20 [==============================] - 5s 249ms/step - loss: 0.8043 - acc: 0.8062\n",
            "Epoch 35/100\n",
            "20/20 [==============================] - 5s 250ms/step - loss: 0.7027 - acc: 0.8287\n",
            "Epoch 36/100\n",
            "20/20 [==============================] - 5s 250ms/step - loss: 0.7034 - acc: 0.8343\n",
            "Epoch 37/100\n",
            "20/20 [==============================] - 5s 250ms/step - loss: 0.8130 - acc: 0.8223\n",
            "Epoch 38/100\n",
            "20/20 [==============================] - 5s 250ms/step - loss: 0.6235 - acc: 0.8455\n",
            "Epoch 39/100\n",
            "20/20 [==============================] - 5s 249ms/step - loss: 0.5850 - acc: 0.8551\n",
            "Epoch 40/100\n",
            "20/20 [==============================] - 5s 251ms/step - loss: 0.6848 - acc: 0.8391\n",
            "Epoch 41/100\n",
            "20/20 [==============================] - 5s 250ms/step - loss: 0.7048 - acc: 0.8191\n",
            "Epoch 42/100\n",
            "20/20 [==============================] - 5s 251ms/step - loss: 0.4778 - acc: 0.8783\n",
            "Epoch 43/100\n",
            "20/20 [==============================] - 5s 250ms/step - loss: 0.5901 - acc: 0.8503\n",
            "Epoch 44/100\n",
            "20/20 [==============================] - 5s 253ms/step - loss: 0.7190 - acc: 0.8359\n",
            "Epoch 45/100\n",
            "20/20 [==============================] - 5s 255ms/step - loss: 0.7226 - acc: 0.8375\n",
            "Epoch 46/100\n",
            "20/20 [==============================] - 5s 258ms/step - loss: 0.6186 - acc: 0.8551\n",
            "Epoch 47/100\n",
            "20/20 [==============================] - 5s 256ms/step - loss: 0.5029 - acc: 0.8695\n",
            "Epoch 48/100\n",
            "20/20 [==============================] - 5s 251ms/step - loss: 0.5193 - acc: 0.8799\n",
            "Epoch 49/100\n",
            "20/20 [==============================] - 5s 249ms/step - loss: 0.6654 - acc: 0.8503\n",
            "Epoch 50/100\n",
            "20/20 [==============================] - 5s 252ms/step - loss: 0.5492 - acc: 0.8671\n",
            "Epoch 51/100\n",
            "20/20 [==============================] - 5s 249ms/step - loss: 0.4927 - acc: 0.8775\n",
            "Epoch 52/100\n",
            "20/20 [==============================] - 5s 248ms/step - loss: 0.6626 - acc: 0.8479\n",
            "Epoch 53/100\n",
            "20/20 [==============================] - 5s 249ms/step - loss: 0.5130 - acc: 0.8727\n",
            "Epoch 54/100\n",
            "20/20 [==============================] - 5s 249ms/step - loss: 0.4181 - acc: 0.8863\n",
            "Epoch 55/100\n",
            "20/20 [==============================] - 5s 250ms/step - loss: 0.5824 - acc: 0.8727\n",
            "Epoch 56/100\n",
            "20/20 [==============================] - 5s 250ms/step - loss: 0.3982 - acc: 0.8895\n",
            "Epoch 57/100\n",
            "20/20 [==============================] - 5s 249ms/step - loss: 0.4852 - acc: 0.8759\n",
            "Epoch 58/100\n",
            "20/20 [==============================] - 5s 249ms/step - loss: 0.5233 - acc: 0.8839\n",
            "Epoch 59/100\n",
            "20/20 [==============================] - 5s 251ms/step - loss: 0.3631 - acc: 0.8943\n",
            "Epoch 60/100\n",
            "20/20 [==============================] - 5s 258ms/step - loss: 0.4684 - acc: 0.8823\n",
            "Epoch 61/100\n",
            "20/20 [==============================] - 5s 257ms/step - loss: 0.4591 - acc: 0.8911\n",
            "Epoch 62/100\n",
            "20/20 [==============================] - 5s 261ms/step - loss: 0.3667 - acc: 0.8991\n",
            "Epoch 63/100\n",
            "20/20 [==============================] - 5s 258ms/step - loss: 0.3665 - acc: 0.9023\n",
            "Epoch 64/100\n",
            "20/20 [==============================] - 5s 257ms/step - loss: 0.4224 - acc: 0.9015\n",
            "Epoch 65/100\n",
            "20/20 [==============================] - 5s 255ms/step - loss: 0.3948 - acc: 0.8959\n",
            "Epoch 66/100\n",
            "20/20 [==============================] - 5s 260ms/step - loss: 0.3718 - acc: 0.8999\n",
            "Epoch 67/100\n",
            "20/20 [==============================] - 5s 255ms/step - loss: 0.3336 - acc: 0.9207\n",
            "Epoch 68/100\n",
            "20/20 [==============================] - 5s 254ms/step - loss: 0.4203 - acc: 0.9015\n",
            "Epoch 69/100\n",
            "20/20 [==============================] - 5s 251ms/step - loss: 0.4576 - acc: 0.8959\n",
            "Epoch 70/100\n",
            "20/20 [==============================] - 5s 253ms/step - loss: 0.3430 - acc: 0.9119\n",
            "Epoch 71/100\n",
            "20/20 [==============================] - 5s 251ms/step - loss: 0.3622 - acc: 0.8975\n",
            "Epoch 72/100\n",
            "20/20 [==============================] - 5s 253ms/step - loss: 0.5461 - acc: 0.8807\n",
            "Epoch 73/100\n",
            "20/20 [==============================] - 5s 254ms/step - loss: 0.3089 - acc: 0.9063\n",
            "Epoch 74/100\n",
            "20/20 [==============================] - 5s 256ms/step - loss: 0.3635 - acc: 0.9031\n",
            "Epoch 75/100\n",
            "20/20 [==============================] - 5s 253ms/step - loss: 0.3107 - acc: 0.9191\n",
            "Epoch 76/100\n",
            "20/20 [==============================] - 5s 251ms/step - loss: 0.2868 - acc: 0.9223\n",
            "Epoch 77/100\n",
            "20/20 [==============================] - 5s 250ms/step - loss: 0.3244 - acc: 0.9135\n",
            "Epoch 78/100\n",
            "20/20 [==============================] - 5s 251ms/step - loss: 0.3174 - acc: 0.9239\n",
            "Epoch 79/100\n",
            "20/20 [==============================] - 5s 254ms/step - loss: 0.3778 - acc: 0.8991\n",
            "Epoch 80/100\n",
            "20/20 [==============================] - 5s 258ms/step - loss: 0.3135 - acc: 0.9207\n",
            "Epoch 81/100\n",
            "20/20 [==============================] - 5s 257ms/step - loss: 0.4048 - acc: 0.9055\n",
            "Epoch 82/100\n",
            "20/20 [==============================] - 5s 254ms/step - loss: 0.2923 - acc: 0.9263\n",
            "Epoch 83/100\n",
            "20/20 [==============================] - 5s 255ms/step - loss: 0.3376 - acc: 0.9063\n",
            "Epoch 84/100\n",
            "20/20 [==============================] - 5s 254ms/step - loss: 0.2627 - acc: 0.9295\n",
            "Epoch 85/100\n",
            "20/20 [==============================] - 5s 258ms/step - loss: 0.3310 - acc: 0.9127\n",
            "Epoch 86/100\n",
            "20/20 [==============================] - 5s 256ms/step - loss: 0.2322 - acc: 0.9384\n",
            "Epoch 87/100\n",
            "20/20 [==============================] - 5s 254ms/step - loss: 0.2849 - acc: 0.9287\n",
            "Epoch 88/100\n",
            "20/20 [==============================] - 5s 251ms/step - loss: 0.2846 - acc: 0.9151\n",
            "Epoch 89/100\n",
            "20/20 [==============================] - 5s 253ms/step - loss: 0.2498 - acc: 0.9319\n",
            "Epoch 90/100\n",
            "20/20 [==============================] - 5s 258ms/step - loss: 0.2813 - acc: 0.9159\n",
            "Epoch 91/100\n",
            "20/20 [==============================] - 5s 263ms/step - loss: 0.2399 - acc: 0.9255\n",
            "Epoch 92/100\n",
            "20/20 [==============================] - 5s 262ms/step - loss: 0.2445 - acc: 0.9359\n",
            "Epoch 93/100\n",
            "20/20 [==============================] - 5s 253ms/step - loss: 0.2401 - acc: 0.9303\n",
            "Epoch 94/100\n",
            "20/20 [==============================] - 5s 260ms/step - loss: 0.2750 - acc: 0.9223\n",
            "Epoch 95/100\n",
            "20/20 [==============================] - 5s 262ms/step - loss: 0.2275 - acc: 0.9367\n",
            "Epoch 96/100\n",
            "20/20 [==============================] - 5s 258ms/step - loss: 0.2451 - acc: 0.9319\n",
            "Epoch 97/100\n",
            "20/20 [==============================] - 5s 258ms/step - loss: 0.2358 - acc: 0.9367\n",
            "Epoch 98/100\n",
            "20/20 [==============================] - 5s 261ms/step - loss: 0.1983 - acc: 0.9408\n",
            "Epoch 99/100\n",
            "20/20 [==============================] - 5s 253ms/step - loss: 0.2489 - acc: 0.9319\n",
            "Epoch 100/100\n",
            "20/20 [==============================] - 5s 249ms/step - loss: 0.1708 - acc: 0.9528\n",
            "Time:  0:09:22.796010\n"
          ],
          "name": "stdout"
        }
      ]
    },
    {
      "cell_type": "markdown",
      "metadata": {
        "id": "SEzNDGhuoH0P"
      },
      "source": [
        "# **Training Accuracy and Test Accuracy**"
      ]
    },
    {
      "cell_type": "code",
      "metadata": {
        "colab": {
          "base_uri": "https://localhost:8080/"
        },
        "id": "58inp1a-oGrT",
        "outputId": "55763eec-1124-41f8-b1c4-12745ae5f0b5"
      },
      "source": [
        "from sklearn.metrics import accuracy_score\n",
        "train_pred = (model.predict(train_data) > 0.5).astype(\"int32\")\n",
        "#train_pred = to_categorical(train_pred, num_classes, dtype='float32')\n",
        "train_acc = accuracy_score(train_labels, train_pred)\n",
        "\n",
        "test_pred = train_pred = (model.predict(test_data) > 0.5).astype(\"int32\")\n",
        "#test_pred = to_categorical(test_pred, num_classes, dtype= 'float32')\n",
        "test_acc = accuracy_score(test_labels, test_pred )\n",
        "\n",
        "validation_pred = train_pred = (model.predict(validation_data) > 0.5).astype(\"int32\")\n",
        "#validation_pred = to_categorical(validation_pred, num_classes, dtype='float32')\n",
        "validation_acc = accuracy_score(validation_labels, validation_pred)\n",
        "\n",
        "print(\"Train Accuracy: \" , train_acc*100, \"%\")\n",
        "print(\"Test Accuracy: \" , test_acc*100, \"%\")\n",
        "print(\"Validation Accuracy: \" , validation_acc*100, \"%\")"
      ],
      "execution_count": 34,
      "outputs": [
        {
          "output_type": "stream",
          "text": [
            "Train Accuracy:  100.0 %\n",
            "Test Accuracy:  88.12199036918138 %\n",
            "Validation Accuracy:  61.42857142857143 %\n"
          ],
          "name": "stdout"
        }
      ]
    },
    {
      "cell_type": "markdown",
      "metadata": {
        "id": "zWkEmK9ydZyc"
      },
      "source": [
        "# **Confusion Matrix**"
      ]
    },
    {
      "cell_type": "code",
      "metadata": {
        "colab": {
          "base_uri": "https://localhost:8080/"
        },
        "id": "roVORI2SdYPn",
        "outputId": "a5f15ee3-97f6-49d2-802c-0c61b39f008f"
      },
      "source": [
        "\n",
        "print(metrics.confusion_matrix(test_labels, test_pred))\n"
      ],
      "execution_count": 35,
      "outputs": [
        {
          "output_type": "stream",
          "text": [
            "[[231  74]\n",
            " [  0 318]]\n"
          ],
          "name": "stdout"
        }
      ]
    },
    {
      "cell_type": "markdown",
      "metadata": {
        "id": "1u_hdKtQiUfe"
      },
      "source": [
        "# **Save Model**"
      ]
    },
    {
      "cell_type": "code",
      "metadata": {
        "colab": {
          "base_uri": "https://localhost:8080/"
        },
        "id": "OKD_R2qCiI48",
        "outputId": "9a7d93b7-bff3-4561-a20b-af8731a5f813"
      },
      "source": [
        "# Save the Modle to file in the current working directory\n",
        "# serialize model to JSON\n",
        "model_json = model.to_json()\n",
        "with open(\"/content/drive/MyDrive/Thesis work/xceptionModel.json\", \"w\") as json_file:\n",
        "    json_file.write(model_json)\n",
        "# serialize weights to HDF5\n",
        "model.save_weights(\"/content/drive/MyDrive/Thesis work/xceptionModel.h5\")\n",
        "print(\"Saved model to disk\")"
      ],
      "execution_count": 36,
      "outputs": [
        {
          "output_type": "stream",
          "text": [
            "Saved model to disk\n"
          ],
          "name": "stdout"
        }
      ]
    },
    {
      "cell_type": "markdown",
      "metadata": {
        "id": "-B64jVPglDg7"
      },
      "source": [
        "# **Load Model**"
      ]
    },
    {
      "cell_type": "code",
      "metadata": {
        "colab": {
          "base_uri": "https://localhost:8080/"
        },
        "id": "83Xp0A76iTkG",
        "outputId": "d66bbb8f-6ff5-40c4-c9fa-8831f28bcc8f"
      },
      "source": [
        "# Load the Model back from file\n",
        "from keras.models import model_from_json\n",
        "json_file = open('/content/drive/MyDrive/Thesis work/xceptionModel.json', 'r')\n",
        "loaded_model_json = json_file.read()\n",
        "json_file.close()\n",
        "loaded_model = model_from_json(loaded_model_json)\n",
        "# load weights into new model\n",
        "loaded_model.load_weights(\"/content/drive/MyDrive/Thesis work/xceptionModel.h5\")\n",
        "print(\"Loaded model from disk\")"
      ],
      "execution_count": 37,
      "outputs": [
        {
          "output_type": "stream",
          "text": [
            "Loaded model from disk\n"
          ],
          "name": "stdout"
        }
      ]
    },
    {
      "cell_type": "markdown",
      "metadata": {
        "id": "GkAZ_3Af-wRy"
      },
      "source": [
        "## **Evaluate model on test data**"
      ]
    },
    {
      "cell_type": "code",
      "metadata": {
        "colab": {
          "base_uri": "https://localhost:8080/"
        },
        "id": "rqrxz_rT8867",
        "outputId": "f654778c-c23f-4b06-f52e-2c3be3090ba4"
      },
      "source": [
        "# evaluate loaded model on test data\n",
        "\n",
        "loaded_model.compile(loss='binary_crossentropy', optimizer='rmsprop', metrics=['accuracy'])\n",
        "prediction = loaded_model.predict_classes(test_data)\n",
        "\n",
        "accuracy_score = accuracy_score(test_labels, prediction)\n",
        "print(\"Accuracy score: %.2f %\", accuracy_score)\n",
        "#score = loaded_model.evaluate(validation_data, validation_labels, verbose=0)\n"
      ],
      "execution_count": 39,
      "outputs": [
        {
          "output_type": "stream",
          "text": [
            "/usr/local/lib/python3.7/dist-packages/keras/engine/sequential.py:450: UserWarning: `model.predict_classes()` is deprecated and will be removed after 2021-01-01. Please use instead:* `np.argmax(model.predict(x), axis=-1)`,   if your model does multi-class classification   (e.g. if it uses a `softmax` last-layer activation).* `(model.predict(x) > 0.5).astype(\"int32\")`,   if your model does binary classification   (e.g. if it uses a `sigmoid` last-layer activation).\n",
            "  warnings.warn('`model.predict_classes()` is deprecated and '\n"
          ],
          "name": "stderr"
        },
        {
          "output_type": "stream",
          "text": [
            "Accuracy score: %.2f % 0.8812199036918138\n"
          ],
          "name": "stdout"
        }
      ]
    },
    {
      "cell_type": "markdown",
      "metadata": {
        "id": "bVSekf28qroS"
      },
      "source": [
        "Code for visualization of the Accuracy and Loss:"
      ]
    },
    {
      "cell_type": "code",
      "metadata": {
        "colab": {
          "base_uri": "https://localhost:8080/",
          "height": 231
        },
        "id": "M1bY9P_Moh8U",
        "outputId": "20bddc4d-3ea2-400e-c9a2-099391a49dc0"
      },
      "source": [
        "#Graphing our training and validation\n",
        "acc = history.history['acc']\n",
        "val_acc = history.history['val_acc']\n",
        "loss = history.history['loss']\n",
        "val_loss = history.history['val_loss']\n",
        "epochs = range(len(acc))\n",
        "plt.plot(epochs, acc, 'r', label='Training acc')\n",
        "plt.plot(epochs, val_acc, 'b', label='Validation acc')\n",
        "plt.title('Training and validation accuracy')\n",
        "plt.ylabel('accuracy') \n",
        "plt.xlabel('epoch')\n",
        "plt.legend()\n",
        "plt.figure()\n",
        "plt.plot(epochs, loss, 'r', label='Training loss')\n",
        "plt.plot(epochs, val_loss, 'b', label='Validation loss')\n",
        "plt.title('Training and validation loss')\n",
        "plt.ylabel('loss') \n",
        "plt.xlabel('epoch')\n",
        "plt.legend()\n",
        "plt.show()"
      ],
      "execution_count": null,
      "outputs": [
        {
          "output_type": "error",
          "ename": "KeyError",
          "evalue": "ignored",
          "traceback": [
            "\u001b[0;31m---------------------------------------------------------------------------\u001b[0m",
            "\u001b[0;31mKeyError\u001b[0m                                  Traceback (most recent call last)",
            "\u001b[0;32m<ipython-input-52-4d0c5d58be10>\u001b[0m in \u001b[0;36m<module>\u001b[0;34m()\u001b[0m\n\u001b[1;32m      1\u001b[0m \u001b[0;31m#Graphing our training and validation\u001b[0m\u001b[0;34m\u001b[0m\u001b[0;34m\u001b[0m\u001b[0;34m\u001b[0m\u001b[0m\n\u001b[1;32m      2\u001b[0m \u001b[0macc\u001b[0m \u001b[0;34m=\u001b[0m \u001b[0mhistory\u001b[0m\u001b[0;34m.\u001b[0m\u001b[0mhistory\u001b[0m\u001b[0;34m[\u001b[0m\u001b[0;34m'acc'\u001b[0m\u001b[0;34m]\u001b[0m\u001b[0;34m\u001b[0m\u001b[0;34m\u001b[0m\u001b[0m\n\u001b[0;32m----> 3\u001b[0;31m \u001b[0mval_acc\u001b[0m \u001b[0;34m=\u001b[0m \u001b[0mhistory\u001b[0m\u001b[0;34m.\u001b[0m\u001b[0mhistory\u001b[0m\u001b[0;34m[\u001b[0m\u001b[0;34m'val_acc'\u001b[0m\u001b[0;34m]\u001b[0m\u001b[0;34m\u001b[0m\u001b[0;34m\u001b[0m\u001b[0m\n\u001b[0m\u001b[1;32m      4\u001b[0m \u001b[0mloss\u001b[0m \u001b[0;34m=\u001b[0m \u001b[0mhistory\u001b[0m\u001b[0;34m.\u001b[0m\u001b[0mhistory\u001b[0m\u001b[0;34m[\u001b[0m\u001b[0;34m'loss'\u001b[0m\u001b[0;34m]\u001b[0m\u001b[0;34m\u001b[0m\u001b[0;34m\u001b[0m\u001b[0m\n\u001b[1;32m      5\u001b[0m \u001b[0mval_loss\u001b[0m \u001b[0;34m=\u001b[0m \u001b[0mhistory\u001b[0m\u001b[0;34m.\u001b[0m\u001b[0mhistory\u001b[0m\u001b[0;34m[\u001b[0m\u001b[0;34m'val_loss'\u001b[0m\u001b[0;34m]\u001b[0m\u001b[0;34m\u001b[0m\u001b[0;34m\u001b[0m\u001b[0m\n",
            "\u001b[0;31mKeyError\u001b[0m: 'val_acc'"
          ]
        }
      ]
    },
    {
      "cell_type": "markdown",
      "metadata": {
        "id": "rP5kg5H8uGxp"
      },
      "source": [
        "# **ROC AUC**"
      ]
    },
    {
      "cell_type": "code",
      "metadata": {
        "colab": {
          "base_uri": "https://localhost:8080/"
        },
        "id": "61ISNfbnJ-OM",
        "outputId": "d8f7ad24-3782-4ca8-ee0d-486483108200"
      },
      "source": [
        "from sklearn.metrics import roc_curve\n",
        "from sklearn.metrics import roc_auc_score\n",
        "# generate a no skill prediction (majority class)\n",
        "y_score1 = model.predict_proba(test_data)\n",
        "false_positive_rate1, true_positive_rate1, threshold1 = roc_curve(test_labels, y_score1)\n",
        "print('roc_auc_score for VGG16: ', roc_auc_score(test_labels, y_score1))"
      ],
      "execution_count": 40,
      "outputs": [
        {
          "output_type": "stream",
          "text": [
            "/usr/local/lib/python3.7/dist-packages/tensorflow/python/keras/engine/sequential.py:430: UserWarning: `model.predict_proba()` is deprecated and will be removed after 2021-01-01. Please use `model.predict()` instead.\n",
            "  warnings.warn('`model.predict_proba()` is deprecated and '\n"
          ],
          "name": "stderr"
        },
        {
          "output_type": "stream",
          "text": [
            "roc_auc_score for VGG16:  0.952123930302093\n"
          ],
          "name": "stdout"
        }
      ]
    },
    {
      "cell_type": "code",
      "metadata": {
        "colab": {
          "base_uri": "https://localhost:8080/",
          "height": 638
        },
        "id": "Aaa0x3_MuMs_",
        "outputId": "7d08ff88-453e-48b1-8dbe-d3569302f4bd"
      },
      "source": [
        "#Plot ROC AUC curve\n",
        "plt.subplots(1, figsize=(10,10))\n",
        "plt.title('Receiver Operating Characteristic - VGG16')\n",
        "plt.plot(false_positive_rate1, true_positive_rate1)\n",
        "plt.plot([0, 1], ls=\"--\")\n",
        "plt.plot([0, 0], [1, 0] , c=\".7\"), plt.plot([1, 1] , c=\".7\")\n",
        "plt.ylabel('True Positive Rate')\n",
        "plt.xlabel('False Positive Rate')\n",
        "plt.legend()\n",
        "plt.show()\n",
        "\n"
      ],
      "execution_count": 41,
      "outputs": [
        {
          "output_type": "stream",
          "text": [
            "No handles with labels found to put in legend.\n"
          ],
          "name": "stderr"
        },
        {
          "output_type": "display_data",
          "data": {
            "image/png": "[encoded data removed]",
            "text/plain": [
              "<Figure size 720x720 with 1 Axes>"
            ]
          },
          "metadata": {
            "tags": [],
            "needs_background": "light"
          }
        }
      ]
    },
    {
      "cell_type": "markdown",
      "metadata": {
        "id": "qdylweKdxjL1"
      },
      "source": [
        "# **Plot ROC- AUC curve**"
      ]
    },
    {
      "cell_type": "code",
      "metadata": {
        "colab": {
          "base_uri": "https://localhost:8080/",
          "height": 476
        },
        "id": "ef9uqqXh8uce",
        "outputId": "ef116a5a-5e65-4674-ec98-58861a7d1bbe"
      },
      "source": [
        "\n",
        "ns_probs = [0 for _ in range(len(test_labels))]\n",
        "\n",
        "# predict probabilities\n",
        "lr_probs = model.predict_proba(test_data)\n",
        "# keep probabilities for the positive outcome only\n",
        "#lr_probs = lr_probs[:, 0]\n",
        "# calculate scores\n",
        "ns_auc = roc_auc_score(test_labels, ns_probs)\n",
        "lr_auc = roc_auc_score(test_labels, lr_probs)\n",
        "# summarize scores\n",
        "print('No Skill: ROC AUC=%.3f' % (ns_auc))\n",
        "print('VGG16: ROC AUC=%.3f' % (lr_auc))\n",
        "# calculate roc curves\n",
        "ns_fpr, ns_tpr, _ = roc_curve(test_labels, ns_probs)\n",
        "lr_fpr, lr_tpr, _ = roc_curve(test_labels, lr_probs)\n",
        "# plot the roc curve for the model\n",
        "plt.subplots(1, figsize=(10,6))\n",
        "plt.plot(ns_fpr, ns_tpr, linestyle='--', label='No Skill')\n",
        "plt.plot(lr_fpr, lr_tpr, marker='.', label='VGG16')\n",
        "# axis labels\n",
        "plt.xlabel('False Positive Rate')\n",
        "plt.ylabel('True Positive Rate')\n",
        "# show the legend\n",
        "plt.legend()\n",
        "# show the plot\n",
        "plt.show()"
      ],
      "execution_count": 42,
      "outputs": [
        {
          "output_type": "stream",
          "text": [
            "/usr/local/lib/python3.7/dist-packages/tensorflow/python/keras/engine/sequential.py:430: UserWarning: `model.predict_proba()` is deprecated and will be removed after 2021-01-01. Please use `model.predict()` instead.\n",
            "  warnings.warn('`model.predict_proba()` is deprecated and '\n"
          ],
          "name": "stderr"
        },
        {
          "output_type": "stream",
          "text": [
            "No Skill: ROC AUC=0.500\n",
            "VGG16: ROC AUC=0.952\n"
          ],
          "name": "stdout"
        },
        {
          "output_type": "display_data",
          "data": {
            "image/png": "[encoded data removed]",
            "text/plain": [
              "<Figure size 720x432 with 1 Axes>"
            ]
          },
          "metadata": {
            "tags": [],
            "needs_background": "light"
          }
        }
      ]
    }
  ]
}